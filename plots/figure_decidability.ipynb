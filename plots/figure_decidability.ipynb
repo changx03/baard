{
 "cells": [
  {
   "cell_type": "code",
   "execution_count": 1,
   "metadata": {},
   "outputs": [],
   "source": [
    "import os\n",
    "from pathlib import Path\n",
    "import sys\n",
    "\n",
    "import matplotlib.pyplot as plt\n",
    "import seaborn as sns\n",
    "import numpy as np\n",
    "import pandas as pd\n",
    "import torch"
   ]
  },
  {
   "cell_type": "code",
   "execution_count": 2,
   "metadata": {},
   "outputs": [
    {
     "name": "stdout",
     "output_type": "stream",
     "text": [
      "/home/lukec/workspace/baard_v4\n"
     ]
    }
   ],
   "source": [
    "PATH_ROOT = Path(os.getcwd()).absolute().parent\n",
    "print(PATH_ROOT)"
   ]
  },
  {
   "cell_type": "code",
   "execution_count": 3,
   "metadata": {},
   "outputs": [],
   "source": [
    "import torch\n",
    "from torch.utils.data import TensorDataset\n",
    "\n",
    "from baard.classifiers import MNIST_CNN\n",
    "from baard.utils.torch_utils import dataset2tensor"
   ]
  },
  {
   "cell_type": "code",
   "execution_count": 4,
   "metadata": {},
   "outputs": [],
   "source": [
    "path_checkpoint = os.path.join(PATH_ROOT, 'pretrained_clf', 'mnist_cnn.ckpt')\n",
    "model = MNIST_CNN.load_from_checkpoint(path_checkpoint)"
   ]
  },
  {
   "cell_type": "code",
   "execution_count": 5,
   "metadata": {},
   "outputs": [
    {
     "name": "stdout",
     "output_type": "stream",
     "text": [
      "1000\n",
      "1000\n"
     ]
    }
   ],
   "source": [
    "path_clean = os.path.join(PATH_ROOT, 'results', 'exp188283', 'MNIST', 'AdvClean-1000.pt')\n",
    "path_adv = os.path.join(PATH_ROOT, 'results', 'exp188283', 'MNIST', 'APGD-Linf-1000-0.22.pt')\n",
    "\n",
    "dataset_clean = torch.load(path_clean)\n",
    "print(len(dataset_clean))\n",
    "\n",
    "dataset_adv = torch.load(path_adv)\n",
    "print(len(dataset_adv))"
   ]
  },
  {
   "cell_type": "code",
   "execution_count": 6,
   "metadata": {},
   "outputs": [
    {
     "name": "stdout",
     "output_type": "stream",
     "text": [
      "     Benign: tensor([4, 6, 5, 3, 3, 6, 0, 5, 5, 9])\n",
      "Adversarial: tensor([4, 6, 5, 3, 3, 6, 0, 5, 5, 9])\n"
     ]
    }
   ],
   "source": [
    "X_clean, y_clean = dataset2tensor(dataset_clean)\n",
    "X_adv, y_adv = dataset2tensor(dataset_adv)\n",
    "print('     Benign:', y_clean[:10])\n",
    "print('Adversarial:', y_clean[:10])\n"
   ]
  },
  {
   "cell_type": "code",
   "execution_count": 7,
   "metadata": {},
   "outputs": [
    {
     "name": "stdout",
     "output_type": "stream",
     "text": [
      "tensor([3, 4, 3, 8, 2, 4, 5, 8, 8, 8])\n"
     ]
    }
   ],
   "source": [
    "output_adv = torch.argmax(model(X_adv[:10]), dim=1)\n",
    "print(output_adv)"
   ]
  },
  {
   "cell_type": "code",
   "execution_count": 8,
   "metadata": {},
   "outputs": [
    {
     "data": {
      "image/png": "[encoded data removed]",
      "text/plain": [
       "<Figure size 640x480 with 1 Axes>"
      ]
     },
     "metadata": {},
     "output_type": "display_data"
    }
   ],
   "source": [
    "plt.figure()\n",
    "img = X_adv[0].permute(1, 2, 0)\n",
    "plt.imshow(img, cmap='gray')\n",
    "plt.axis('off')\n",
    "plt.tight_layout()\n",
    "plt.savefig('adv_4.pdf', dpi=300)"
   ]
  },
  {
   "cell_type": "code",
   "execution_count": 9,
   "metadata": {},
   "outputs": [],
   "source": [
    "# Find images labelled as 3\n",
    "indices_3 = np.where(y_clean == 3)[0]\n",
    "subset3_clean = X_clean[indices_3]\n",
    "\n",
    "indices_4 = np.where(y_clean == 4)[0]\n",
    "subset4_clean = X_clean[indices_4]"
   ]
  },
  {
   "cell_type": "code",
   "execution_count": 10,
   "metadata": {},
   "outputs": [],
   "source": [
    "from torchvision.utils import make_grid\n",
    "\n",
    "from baard.utils.torch_utils import show_top5_imgs"
   ]
  },
  {
   "cell_type": "code",
   "execution_count": 11,
   "metadata": {},
   "outputs": [],
   "source": [
    "figsize = (8, 6)"
   ]
  },
  {
   "cell_type": "code",
   "execution_count": 12,
   "metadata": {},
   "outputs": [
    {
     "data": {
      "image/png": "[encoded data removed]",
      "text/plain": [
       "<Figure size 800x600 with 1 Axes>"
      ]
     },
     "metadata": {},
     "output_type": "display_data"
    }
   ],
   "source": [
    "grid = make_grid(subset3_clean[:10], nrow=5, padding=4, pad_value=1)\n",
    "grid = grid.permute(1, 2, 0)\n",
    "\n",
    "plt.figure(figsize=figsize)\n",
    "plt.imshow(grid.numpy(), cmap='gray')\n",
    "plt.axis('off')\n",
    "plt.tight_layout()\n",
    "plt.savefig('clean3.pdf', dpi=300)"
   ]
  },
  {
   "cell_type": "code",
   "execution_count": 13,
   "metadata": {},
   "outputs": [
    {
     "data": {
      "image/png": "[encoded data removed]",
      "text/plain": [
       "<Figure size 800x600 with 1 Axes>"
      ]
     },
     "metadata": {},
     "output_type": "display_data"
    }
   ],
   "source": [
    "grid = make_grid(subset4_clean[:10], nrow=5, padding=4, pad_value=1)\n",
    "grid = grid.permute(1, 2, 0)\n",
    "\n",
    "plt.figure(figsize=figsize)\n",
    "plt.imshow(grid.numpy(), cmap='gray')\n",
    "plt.axis('off')\n",
    "plt.tight_layout()\n",
    "plt.savefig('clean4.pdf', dpi=300)\n"
   ]
  },
  {
   "cell_type": "code",
   "execution_count": null,
   "metadata": {},
   "outputs": [],
   "source": []
  }
 ],
 "metadata": {
  "kernelspec": {
   "display_name": "Python 3.9.15 ('.venv': venv)",
   "language": "python",
   "name": "python3"
  },
  "language_info": {
   "codemirror_mode": {
    "name": "ipython",
    "version": 3
   },
   "file_extension": ".py",
   "mimetype": "text/x-python",
   "name": "python",
   "nbconvert_exporter": "python",
   "pygments_lexer": "ipython3",
   "version": "3.9.15"
  },
  "orig_nbformat": 4,
  "vscode": {
   "interpreter": {
    "hash": "4ee34b62edb80364ed23f6848b190186cfc7ce016bdec4c74edd21689226233e"
   }
  }
 },
 "nbformat": 4,
 "nbformat_minor": 2
}
