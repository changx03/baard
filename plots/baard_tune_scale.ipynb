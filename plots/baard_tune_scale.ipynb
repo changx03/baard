{
 "cells": [
  {
   "cell_type": "code",
   "execution_count": 1,
   "metadata": {},
   "outputs": [],
   "source": [
    "import sys\n",
    "import os\n",
    "from pathlib import Path\n",
    "from glob import glob"
   ]
  },
  {
   "cell_type": "code",
   "execution_count": 2,
   "metadata": {},
   "outputs": [],
   "source": [
    "sys.path.append('..')"
   ]
  },
  {
   "cell_type": "code",
   "execution_count": 3,
   "metadata": {},
   "outputs": [],
   "source": [
    "import numpy as np\n",
    "import matplotlib.pyplot as plt\n",
    "import pandas as pd\n",
    "import seaborn as sn"
   ]
  },
  {
   "cell_type": "code",
   "execution_count": 4,
   "metadata": {},
   "outputs": [],
   "source": [
    "from experiments.eval_features import eval_features"
   ]
  },
  {
   "cell_type": "code",
   "execution_count": 5,
   "metadata": {},
   "outputs": [
    {
     "name": "stdout",
     "output_type": "stream",
     "text": [
      "/home/lukec/workspace/baard_v4/results/exp643896\n"
     ]
    }
   ],
   "source": [
    "PATH_ROOT = Path(os.getcwd()).absolute().parent\n",
    "PATH_RESULTS = os.path.join(PATH_ROOT, 'results', 'exp643896')\n",
    "PATH_OUTPUT = os.path.join(PATH_RESULTS, 'roc')\n",
    "\n",
    "print(PATH_RESULTS)"
   ]
  },
  {
   "cell_type": "code",
   "execution_count": 6,
   "metadata": {},
   "outputs": [],
   "source": [
    "# SCALE_LIST = np.concatenate([np.arange(10, 100, 10), np.arange(100, 1100, 100)]).astype(float)\n",
    "SCALE_LIST = np.arange(10, 100, 10).astype(float)"
   ]
  },
  {
   "cell_type": "code",
   "execution_count": 7,
   "metadata": {},
   "outputs": [],
   "source": [
    "def eval_scale(detector_name,\n",
    "           data_name='MNIST',\n",
    "           attack_name='APGD-inf',\n",
    "           eps='0.22',\n",
    "           path_output=PATH_OUTPUT,\n",
    "           scale_list=SCALE_LIST):\n",
    "    path_input = os.path.join(PATH_RESULTS, data_name, detector_name, attack_name)\n",
    "\n",
    "    _detector_name = detector_name.split('_')[0]\n",
    "    files_adv = [f'{_detector_name}-{scale}-{data_name}-{attack_name}-{eps}.pt' for scale in scale_list]\n",
    "    files_clean = [f'{_detector_name}-{scale}-{data_name}-{attack_name}-clean.pt' for scale in scale_list]\n",
    "\n",
    "    df_auc_all = pd.DataFrame()\n",
    "    for file_clean, file_adv in zip(files_clean, files_adv):\n",
    "        _, df_auc_tpr = eval_features(path_input, path_output, file_clean, file_adv)\n",
    "        df_auc_all = pd.concat([df_auc_all, df_auc_tpr], ignore_index=True)\n",
    "    df_auc_all['scale'] = scale_list\n",
    "\n",
    "    df_sn_plot = df_auc_all.melt('scale', var_name='cols', value_name='rate')\n",
    "    sn.lineplot(data=df_sn_plot.query(('cols == \"auc\" | cols == \"5fpr\"')), x='scale', y='rate', hue='cols')"
   ]
  },
  {
   "cell_type": "code",
   "execution_count": 8,
   "metadata": {},
   "outputs": [
    {
     "data": {
      "image/png": "[encoded data removed]",
      "text/plain": [
       "<Figure size 640x480 with 1 Axes>"
      ]
     },
     "metadata": {},
     "output_type": "display_data"
    }
   ],
   "source": [
    "detector_name = 'ReliabilityStage_tuneScale'\n",
    "eval_scale(detector_name, 'MNIST', 'APGD-inf', eps='0.22')\n",
    "# eval_scale(detector_name, 'MNIST', 'APGD-2', eps='4.0')\n",
    "# eval_scale(detector_name, 'CIFAR10', 'APGD-inf', eps='0.01')\n",
    "# eval_scale(detector_name, 'CIFAR10', 'APGD-2', eps='0.3')"
   ]
  },
  {
   "cell_type": "code",
   "execution_count": null,
   "metadata": {},
   "outputs": [],
   "source": [
    "# detector_name = 'DecidabilityStage_tuneScale'\n",
    "# eval_scale(detector_name, 'MNIST', 'APGD-inf', eps='0.22')\n",
    "# eval_scale(detector_name, 'MNIST', 'APGD-2', eps='4.0')\n",
    "# eval_scale(detector_name, 'CIFAR10', 'APGD-inf', eps='0.01')\n",
    "# eval_scale(detector_name, 'CIFAR10', 'APGD-2', eps='0.3')"
   ]
  }
 ],
 "metadata": {
  "kernelspec": {
   "display_name": "Python 3.9.15 ('.venv': venv)",
   "language": "python",
   "name": "python3"
  },
  "language_info": {
   "codemirror_mode": {
    "name": "ipython",
    "version": 3
   },
   "file_extension": ".py",
   "mimetype": "text/x-python",
   "name": "python",
   "nbconvert_exporter": "python",
   "pygments_lexer": "ipython3",
   "version": "3.9.15"
  },
  "orig_nbformat": 4,
  "vscode": {
   "interpreter": {
    "hash": "4ee34b62edb80364ed23f6848b190186cfc7ce016bdec4c74edd21689226233e"
   }
  }
 },
 "nbformat": 4,
 "nbformat_minor": 2
}
