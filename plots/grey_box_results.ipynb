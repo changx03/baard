{
 "cells": [
  {
   "cell_type": "code",
   "execution_count": 1,
   "metadata": {},
   "outputs": [],
   "source": [
    "import sys\n",
    "import os\n",
    "from pathlib import Path\n",
    "from glob import glob"
   ]
  },
  {
   "cell_type": "code",
   "execution_count": 2,
   "metadata": {},
   "outputs": [],
   "source": [
    "sys.path.append('..')"
   ]
  },
  {
   "cell_type": "code",
   "execution_count": 3,
   "metadata": {},
   "outputs": [],
   "source": [
    "import numpy as np\n",
    "import matplotlib.pyplot as plt\n",
    "import pandas as pd\n",
    "import seaborn as sn"
   ]
  },
  {
   "cell_type": "code",
   "execution_count": 4,
   "metadata": {},
   "outputs": [],
   "source": [
    "from experiments.eval_features import eval_features"
   ]
  },
  {
   "cell_type": "code",
   "execution_count": 5,
   "metadata": {},
   "outputs": [
    {
     "name": "stdout",
     "output_type": "stream",
     "text": [
      "INPUTS: /home/lukec/workspace/baard_v4/results/exp188283\n"
     ]
    }
   ],
   "source": [
    "SEED = 188283\n",
    "PATH_ROOT = Path(os.getcwd()).absolute().parent\n",
    "PATH_RESULTS = os.path.join(PATH_ROOT, 'results', f'exp{SEED}')\n",
    "PATH_OUTPUT = os.path.join(PATH_RESULTS, 'roc')\n",
    "\n",
    "print('INPUTS:', PATH_RESULTS)"
   ]
  },
  {
   "cell_type": "code",
   "execution_count": 6,
   "metadata": {},
   "outputs": [
    {
     "name": "stdout",
     "output_type": "stream",
     "text": [
      "OUTPUTS: /home/lukec/workspace/baard_v4/results/exp188283/roc\n"
     ]
    }
   ],
   "source": [
    "PATH_OUTPUT = os.path.join(PATH_RESULTS, 'roc')\n",
    "print('OUTPUTS:', PATH_OUTPUT)\n",
    "\n",
    "if not os.path.exists(PATH_OUTPUT):\n",
    "    os.makedirs(PATH_OUTPUT)"
   ]
  },
  {
   "cell_type": "code",
   "execution_count": 7,
   "metadata": {},
   "outputs": [],
   "source": [
    "def get_result_one_detector(detector_name, data_name, attack_name, eps, path_output=PATH_OUTPUT):\n",
    "    path_input = os.path.join(PATH_RESULTS, data_name, detector_name, attack_name)\n",
    "    # NOTE: LID and ML-LOO need to call proba.\n",
    "    if detector_name == 'MLLooDetector' or detector_name == 'LIDDetector':\n",
    "        _detector_name = detector_name + '(proba)'\n",
    "    else:\n",
    "        _detector_name = detector_name\n",
    "    file_adv = f'{_detector_name}-{data_name}-{attack_name}-{eps}.pt'\n",
    "    file_clean = f'{_detector_name}-{data_name}-{attack_name}-clean.pt'\n",
    "    _, df_auc_tpr = eval_features(path_input, path_output, file_clean, file_adv)\n",
    "    df_auc_tpr = (df_auc_tpr * 100).round(1)\n",
    "    df_auc_tpr['data'] = data_name\n",
    "    df_auc_tpr['detector'] = detector_name\n",
    "    df_auc_tpr['attack'] = attack_name\n",
    "    df_auc_tpr['eps'] = eps\n",
    "    df_auc_tpr = df_auc_tpr[['data', 'detector', 'attack', 'eps', 'auc', '1fpr', '5fpr', '10fpr']]\n",
    "    return df_auc_tpr\n"
   ]
  },
  {
   "cell_type": "code",
   "execution_count": 8,
   "metadata": {},
   "outputs": [],
   "source": [
    "detectors = [\n",
    "    'RegionBasedClassifier',\n",
    "    'FeatureSqueezingDetector',\n",
    "    'LIDDetector',\n",
    "    'OddsAreOddDetector',\n",
    "    'MLLooDetector',\n",
    "    'PNDetector',\n",
    "    'BAARD',\n",
    "]\n",
    "attacks = ['APGD-L2', 'APGD-Linf', 'CW2-L2']\n",
    "detector_mapping = {\n",
    "    'RegionBasedClassifier': 'RC',\n",
    "    'FeatureSqueezingDetector': 'FS',\n",
    "    'LIDDetector': 'LID',\n",
    "    'OddsAreOddDetector': 'Odds',\n",
    "    'MLLooDetector': 'ML-LOO',\n",
    "    'PNDetector': 'PN',\n",
    "    'BAARD': 'BAARD',\n",
    "}"
   ]
  },
  {
   "cell_type": "code",
   "execution_count": 9,
   "metadata": {},
   "outputs": [
    {
     "name": "stdout",
     "output_type": "stream",
     "text": [
      "    data detector     attack   eps    auc   5fpr\n",
      "0  MNIST       RC    APGD-L2   Low   50.8    0.0\n",
      "0  MNIST       FS    APGD-L2   Low   75.1   30.6\n",
      "0  MNIST      LID    APGD-L2   Low   43.4    7.1\n",
      "0  MNIST     Odds    APGD-L2   Low   96.2   78.4\n",
      "0  MNIST   ML-LOO    APGD-L2   Low   94.1   72.5\n",
      "0  MNIST       PN    APGD-L2   Low   56.2   10.9\n",
      "0  MNIST    BAARD    APGD-L2   Low   93.0   56.9\n",
      "0  MNIST       RC    APGD-L2  High   51.2    0.0\n",
      "0  MNIST       FS    APGD-L2  High   66.9    3.6\n",
      "0  MNIST      LID    APGD-L2  High   82.0   45.9\n",
      "0  MNIST     Odds    APGD-L2  High   96.3   80.5\n",
      "0  MNIST   ML-LOO    APGD-L2  High  100.0  100.0\n",
      "0  MNIST       PN    APGD-L2  High   57.2    6.6\n",
      "0  MNIST    BAARD    APGD-L2  High   97.4   85.1\n",
      "0  MNIST       RC  APGD-Linf   Low   73.3   49.6\n",
      "0  MNIST       FS  APGD-Linf   Low   99.8   99.6\n",
      "0  MNIST      LID  APGD-Linf   Low   61.3   19.3\n",
      "0  MNIST     Odds  APGD-Linf   Low   98.7   97.3\n",
      "0  MNIST   ML-LOO  APGD-Linf   Low   99.7   99.0\n",
      "0  MNIST       PN  APGD-Linf   Low   91.1   69.4\n",
      "0  MNIST    BAARD  APGD-Linf   Low   97.0   84.0\n",
      "0  MNIST       RC  APGD-Linf  High   51.6    0.0\n",
      "0  MNIST       FS  APGD-Linf  High   74.8    2.1\n",
      "0  MNIST      LID  APGD-Linf  High   98.7   93.9\n",
      "0  MNIST     Odds  APGD-Linf  High   99.7   99.9\n",
      "0  MNIST   ML-LOO  APGD-Linf  High  100.0  100.0\n",
      "0  MNIST       PN  APGD-Linf  High   63.6    6.8\n",
      "0  MNIST    BAARD  APGD-Linf  High   98.9   97.9\n",
      "0  MNIST       RC     CW2-L2   NaN   99.9  100.0\n",
      "0  MNIST       FS     CW2-L2   NaN   99.9  100.0\n",
      "0  MNIST      LID     CW2-L2   NaN   63.0   16.1\n",
      "0  MNIST     Odds     CW2-L2   NaN   95.5   75.2\n",
      "0  MNIST   ML-LOO     CW2-L2   NaN   59.0   11.5\n",
      "0  MNIST       PN     CW2-L2   NaN   97.2   90.8\n",
      "0  MNIST    BAARD     CW2-L2   NaN   96.0   75.2\n"
     ]
    }
   ],
   "source": [
    "data_name = 'MNIST'\n",
    "eps_list = {\n",
    "    'APGD-L2': [4.0, 8.0],\n",
    "    'APGD-Linf': [0.22, 0.66],\n",
    "    'CW2-L2': [0]\n",
    "}\n",
    "mnist_eps_mapping = {\n",
    "    4.0: 'Low',\n",
    "    8.0: 'High',\n",
    "    0.22: 'Low',\n",
    "    0.66: 'High',\n",
    "}\n",
    "\n",
    "df_greybox_mnist = pd.DataFrame()\n",
    "for attack_name in attacks:\n",
    "    for eps in eps_list[attack_name]:\n",
    "        for detector_name in detectors:\n",
    "            _df_row = get_result_one_detector(detector_name, data_name, attack_name, eps)\n",
    "            df_greybox_mnist = pd.concat([df_greybox_mnist, _df_row])\n",
    "\n",
    "df_greybox_mnist['detector'] = df_greybox_mnist['detector'].map(detector_mapping)\n",
    "df_greybox_mnist['eps'] = df_greybox_mnist['eps'].map(mnist_eps_mapping)\n",
    "\n",
    "df_greybox_mnist.to_csv(os.path.join(PATH_OUTPUT, f'greybox_{data_name}.csv'))\n",
    "\n",
    "print(df_greybox_mnist[['data', 'detector', 'attack', 'eps', 'auc', '5fpr']])\n"
   ]
  },
  {
   "cell_type": "code",
   "execution_count": 10,
   "metadata": {},
   "outputs": [
    {
     "name": "stdout",
     "output_type": "stream",
     "text": [
      "      data detector     attack   eps    auc   5fpr\n",
      "0  CIFAR10       RC    APGD-L2   Low   56.8   13.4\n",
      "0  CIFAR10       FS    APGD-L2   Low   95.1   78.7\n",
      "0  CIFAR10      LID    APGD-L2   Low   73.2   31.5\n",
      "0  CIFAR10     Odds    APGD-L2   Low   97.5   95.6\n",
      "0  CIFAR10   ML-LOO    APGD-L2   Low   56.5   15.7\n",
      "0  CIFAR10       PN    APGD-L2   Low   76.0   19.5\n",
      "0  CIFAR10    BAARD    APGD-L2   Low   72.6   23.6\n",
      "0  CIFAR10       RC    APGD-L2  High   55.0    0.0\n",
      "0  CIFAR10       FS    APGD-L2  High   82.0   43.0\n",
      "0  CIFAR10      LID    APGD-L2  High   99.0   95.4\n",
      "0  CIFAR10     Odds    APGD-L2  High   80.3    2.9\n",
      "0  CIFAR10   ML-LOO    APGD-L2  High   98.8   96.4\n",
      "0  CIFAR10       PN    APGD-L2  High   57.7   11.5\n",
      "0  CIFAR10    BAARD    APGD-L2  High  100.0  100.0\n",
      "0  CIFAR10       RC  APGD-Linf   Low   50.2    3.7\n",
      "0  CIFAR10       FS  APGD-Linf   Low   95.4   75.3\n",
      "0  CIFAR10      LID  APGD-Linf   Low   83.4   45.6\n",
      "0  CIFAR10     Odds  APGD-Linf   Low   98.1   96.0\n",
      "0  CIFAR10   ML-LOO  APGD-Linf   Low   65.2   25.6\n",
      "0  CIFAR10       PN  APGD-Linf   Low   76.3   20.8\n",
      "0  CIFAR10    BAARD  APGD-Linf   Low   83.9   50.3\n",
      "0  CIFAR10       RC  APGD-Linf  High   54.8    0.0\n",
      "0  CIFAR10       FS  APGD-Linf  High   70.1   24.3\n",
      "0  CIFAR10      LID  APGD-Linf  High   99.3   96.9\n",
      "0  CIFAR10     Odds  APGD-Linf  High   65.7    0.1\n",
      "0  CIFAR10   ML-LOO  APGD-Linf  High   99.5   98.5\n",
      "0  CIFAR10       PN  APGD-Linf  High   55.3    8.5\n",
      "0  CIFAR10    BAARD  APGD-Linf  High  100.0  100.0\n",
      "0  CIFAR10       RC     CW2-L2   NaN   99.4   98.5\n",
      "0  CIFAR10       FS     CW2-L2   NaN   90.4    6.4\n",
      "0  CIFAR10      LID     CW2-L2   NaN   35.5   10.9\n",
      "0  CIFAR10     Odds     CW2-L2   NaN   96.3   83.2\n",
      "0  CIFAR10   ML-LOO     CW2-L2   NaN   66.9   12.3\n",
      "0  CIFAR10       PN     CW2-L2   NaN   67.1   11.9\n",
      "0  CIFAR10    BAARD     CW2-L2   NaN   98.1   93.5\n"
     ]
    }
   ],
   "source": [
    "data_name = 'CIFAR10'\n",
    "eps_list = {\n",
    "    'APGD-L2': [0.3, 3.0],\n",
    "    'APGD-Linf': [0.01, 0.1],\n",
    "    'CW2-L2': [0]\n",
    "}\n",
    "cifar10_eps_mapping = {\n",
    "    0.3: 'Low',\n",
    "    3.0: 'High',\n",
    "    0.01: 'Low',\n",
    "    0.1: 'High',\n",
    "}\n",
    "\n",
    "df_greybox_cifar10 = pd.DataFrame()\n",
    "for attack_name in attacks:\n",
    "    for eps in eps_list[attack_name]:\n",
    "        for detector_name in detectors:\n",
    "            _df_row = get_result_one_detector(detector_name, data_name, attack_name, eps)\n",
    "            df_greybox_cifar10 = pd.concat([df_greybox_cifar10, _df_row])\n",
    "\n",
    "df_greybox_cifar10['detector'] = df_greybox_cifar10['detector'].map(detector_mapping)\n",
    "df_greybox_cifar10['eps'] = df_greybox_cifar10['eps'].map(cifar10_eps_mapping)\n",
    "\n",
    "df_greybox_cifar10.to_csv(os.path.join(PATH_OUTPUT, f'greybox_{data_name}.csv'))\n",
    "\n",
    "print(df_greybox_cifar10[['data', 'detector', 'attack', 'eps', 'auc', '5fpr']])\n"
   ]
  },
  {
   "cell_type": "code",
   "execution_count": null,
   "metadata": {},
   "outputs": [],
   "source": []
  }
 ],
 "metadata": {
  "kernelspec": {
   "display_name": "Python 3.9.15 ('.venv': venv)",
   "language": "python",
   "name": "python3"
  },
  "language_info": {
   "codemirror_mode": {
    "name": "ipython",
    "version": 3
   },
   "file_extension": ".py",
   "mimetype": "text/x-python",
   "name": "python",
   "nbconvert_exporter": "python",
   "pygments_lexer": "ipython3",
   "version": "3.9.15"
  },
  "orig_nbformat": 4,
  "vscode": {
   "interpreter": {
    "hash": "4ee34b62edb80364ed23f6848b190186cfc7ce016bdec4c74edd21689226233e"
   }
  }
 },
 "nbformat": 4,
 "nbformat_minor": 2
}
