{
 "cells": [
  {
   "cell_type": "code",
   "execution_count": 1,
   "metadata": {},
   "outputs": [],
   "source": [
    "import sys\n",
    "import os\n",
    "from pathlib import Path\n",
    "from glob import glob"
   ]
  },
  {
   "cell_type": "code",
   "execution_count": 2,
   "metadata": {},
   "outputs": [],
   "source": [
    "sys.path.append('..')"
   ]
  },
  {
   "cell_type": "code",
   "execution_count": 3,
   "metadata": {},
   "outputs": [],
   "source": [
    "import numpy as np\n",
    "import matplotlib.pyplot as plt\n",
    "import pandas as pd\n",
    "import seaborn as sn"
   ]
  },
  {
   "cell_type": "code",
   "execution_count": 4,
   "metadata": {},
   "outputs": [],
   "source": [
    "from experiments.eval_features import eval_features"
   ]
  },
  {
   "cell_type": "code",
   "execution_count": 5,
   "metadata": {},
   "outputs": [
    {
     "name": "stdout",
     "output_type": "stream",
     "text": [
      "/home/lukec/workspace/baard_v4\n"
     ]
    }
   ],
   "source": [
    "PATH_ROOT = Path(os.getcwd()).absolute().parent\n",
    "print(PATH_ROOT)"
   ]
  },
  {
   "cell_type": "code",
   "execution_count": 6,
   "metadata": {},
   "outputs": [],
   "source": [
    "def get_result_one_detector(detector_name,\n",
    "                            data_name,\n",
    "                            model_name,\n",
    "                            attack_name,\n",
    "                            eps,\n",
    "                            path_feature,\n",
    "                            path_output):  \n",
    "    \"\"\"Get AUC and TPR as a DataFrame for one feature.\"\"\"\n",
    "    path_input = os.path.join(path_feature, f'{data_name}-{model_name}', detector_name, attack_name)\n",
    "    file_adv = f'{detector_name}-{data_name}-{attack_name}-{eps}.pt'\n",
    "    file_clean = f'{detector_name}-{data_name}-{attack_name}-clean.pt'\n",
    "    _, df_auc_tpr = eval_features(path_input, path_output, file_clean, file_adv)\n",
    "    df_auc_tpr = (df_auc_tpr * 100).round(1)\n",
    "    df_auc_tpr['data'] = data_name\n",
    "    df_auc_tpr['detector'] = detector_name\n",
    "    df_auc_tpr['attack'] = attack_name\n",
    "    df_auc_tpr['eps'] = eps\n",
    "    df_auc_tpr = df_auc_tpr[['data', 'detector', 'attack', 'eps', 'auc', '1fpr', '5fpr', '10fpr']]\n",
    "    return df_auc_tpr\n"
   ]
  },
  {
   "cell_type": "code",
   "execution_count": 7,
   "metadata": {},
   "outputs": [],
   "source": [
    "data_list = ['banknote', 'BC']\n",
    "model_list = ['SVM', 'DecisionTree']\n",
    "attack_list = ['PGD-Linf', 'DecisionTreeAttack']\n",
    "eps_list = {\n",
    "    'PGD-Linf': [0.2, 0.6],\n",
    "    'DecisionTreeAttack': [0],\n",
    "}\n",
    "detectors = [\n",
    "    'SklearnBAARD',\n",
    "    'SklearnRegionBasedClassifier',\n",
    "]\n",
    "detector_mapping = {\n",
    "    'SklearnBAARD': 'BAARD',\n",
    "    'SklearnRegionBasedClassifier': 'RC',\n",
    "}\n",
    "eps_mapping = {\n",
    "    0.2: 'Low',\n",
    "    0.6: 'High',\n",
    "    0: 'NA',\n",
    "}"
   ]
  },
  {
   "cell_type": "code",
   "execution_count": 18,
   "metadata": {},
   "outputs": [
    {
     "name": "stdout",
     "output_type": "stream",
     "text": [
      "INPUTS: /home/lukec/workspace/baard_v4/results/exp188283\n",
      "INPUTS: /home/lukec/workspace/baard_v4/results/exp382347\n",
      "INPUTS: /home/lukec/workspace/baard_v4/results/exp466364\n"
     ]
    }
   ],
   "source": [
    "seed_list = [\n",
    "    188283,\n",
    "    # 292478,\n",
    "    382347,\n",
    "    466364,\n",
    "    # 543597,\n",
    "]\n",
    "\n",
    "df_list = []\n",
    "for s in seed_list:\n",
    "    path_results = os.path.join(PATH_ROOT, 'results', f'exp{s}')\n",
    "    path_output = os.path.join(path_results, 'roc')\n",
    "    print('INPUTS:', path_results)\n",
    "\n",
    "    if not os.path.exists(path_output):\n",
    "        os.makedirs(path_output)\n",
    "\n",
    "    _df = pd.DataFrame()\n",
    "    for _data_name in data_list:\n",
    "        for _model_name, _att_name in zip(model_list, attack_list):\n",
    "            for _eps in eps_list[_att_name]:\n",
    "                for _detector_name in detectors:\n",
    "                    _df_row = get_result_one_detector(\n",
    "                        _detector_name,\n",
    "                        _data_name,\n",
    "                        _model_name,\n",
    "                        _att_name,\n",
    "                        _eps,\n",
    "                        path_results,\n",
    "                        path_output,\n",
    "                    )\n",
    "                    _df = pd.concat([_df, _df_row], ignore_index=True)\n",
    "\n",
    "    _df['detector'] = _df['detector'].map(detector_mapping)\n",
    "    _df['eps'] = _df['eps'].map(eps_mapping)\n",
    "    _df = _df.sort_values(\n",
    "        by=['data', 'attack', 'eps', 'detector'],\n",
    "        ascending=[False, False, False, False]\n",
    "    )\n",
    "    _df.to_csv(os.path.join(path_output, 'graybox_sklearn.csv'), index=False)\n",
    "    df_list.append(_df)\n"
   ]
  },
  {
   "cell_type": "code",
   "execution_count": 19,
   "metadata": {},
   "outputs": [
    {
     "name": "stdout",
     "output_type": "stream",
     "text": [
      "Exp: 1\n",
      "        data detector              attack   eps    auc   5fpr\n",
      "1   banknote       RC            PGD-Linf   Low   78.4   30.2\n",
      "0   banknote    BAARD            PGD-Linf   Low   98.2   92.7\n",
      "3   banknote       RC            PGD-Linf  High   98.5  100.0\n",
      "2   banknote    BAARD            PGD-Linf  High  100.0  100.0\n",
      "5   banknote       RC  DecisionTreeAttack    NA   92.6   58.7\n",
      "4   banknote    BAARD  DecisionTreeAttack    NA   94.9   83.3\n",
      "7         BC       RC            PGD-Linf   Low   63.0    0.0\n",
      "6         BC    BAARD            PGD-Linf   Low   80.1   21.6\n",
      "9         BC       RC            PGD-Linf  High   74.2    0.0\n",
      "8         BC    BAARD            PGD-Linf  High   53.2   10.8\n",
      "11        BC       RC  DecisionTreeAttack    NA   97.6   89.5\n",
      "10        BC    BAARD  DecisionTreeAttack    NA   99.2   98.1\n",
      "Exp: 2\n",
      "        data detector              attack   eps    auc   5fpr\n",
      "1   banknote       RC            PGD-Linf   Low   78.9   46.0\n",
      "0   banknote    BAARD            PGD-Linf   Low   96.3   88.3\n",
      "3   banknote       RC            PGD-Linf  High   98.9  100.0\n",
      "2   banknote    BAARD            PGD-Linf  High  100.0  100.0\n",
      "5   banknote       RC  DecisionTreeAttack    NA   74.5   30.2\n",
      "4   banknote    BAARD  DecisionTreeAttack    NA   96.5   83.6\n",
      "7         BC       RC            PGD-Linf   Low   67.7    0.0\n",
      "6         BC    BAARD            PGD-Linf   Low   77.5   11.6\n",
      "9         BC       RC            PGD-Linf  High   76.8    0.0\n",
      "8         BC    BAARD            PGD-Linf  High   40.4   13.4\n",
      "11        BC       RC  DecisionTreeAttack    NA   99.9   99.0\n",
      "10        BC    BAARD  DecisionTreeAttack    NA   98.6   91.9\n",
      "Exp: 3\n",
      "        data detector              attack   eps    auc   5fpr\n",
      "1   banknote       RC            PGD-Linf   Low   78.6   49.6\n",
      "0   banknote    BAARD            PGD-Linf   Low   96.7   87.6\n",
      "3   banknote       RC            PGD-Linf  High   99.6  100.0\n",
      "2   banknote    BAARD            PGD-Linf  High  100.0  100.0\n",
      "5   banknote       RC  DecisionTreeAttack    NA   97.1   86.2\n",
      "4   banknote    BAARD  DecisionTreeAttack    NA   96.7   88.8\n",
      "7         BC       RC            PGD-Linf   Low   64.7    0.0\n",
      "6         BC    BAARD            PGD-Linf   Low   86.9   33.3\n",
      "9         BC       RC            PGD-Linf  High   73.4    0.0\n",
      "8         BC    BAARD            PGD-Linf  High   63.6    6.5\n",
      "11        BC       RC  DecisionTreeAttack    NA   95.3   78.5\n",
      "10        BC    BAARD  DecisionTreeAttack    NA   97.9   90.7\n"
     ]
    }
   ],
   "source": [
    "display_columns = ['data', 'detector', 'attack', 'eps', 'auc', '5fpr']\n",
    "\n",
    "for i, _df in enumerate(df_list):\n",
    "    print(f'Exp: {i+1}')\n",
    "    print(_df[display_columns])"
   ]
  },
  {
   "cell_type": "code",
   "execution_count": 25,
   "metadata": {},
   "outputs": [],
   "source": [
    "df_mean = pd.concat(df_list, ignore_index=True).groupby(['data', 'detector', 'attack', 'eps']).mean()\n",
    "df_std = pd.concat(df_list, ignore_index=True).groupby(['data', 'detector', 'attack', 'eps']).std()\n",
    "\n",
    "df_mean.round(2).to_csv(os.path.join(PATH_ROOT, 'plots', 'graybox_sklearn_mean.csv'))\n",
    "df_std.round(2).to_csv(os.path.join(PATH_ROOT, 'plots', 'graybox_sklearn_std.csv'))"
   ]
  },
  {
   "cell_type": "code",
   "execution_count": null,
   "metadata": {},
   "outputs": [],
   "source": []
  }
 ],
 "metadata": {
  "kernelspec": {
   "display_name": "Python 3.9.15 ('.venv': venv)",
   "language": "python",
   "name": "python3"
  },
  "language_info": {
   "codemirror_mode": {
    "name": "ipython",
    "version": 3
   },
   "file_extension": ".py",
   "mimetype": "text/x-python",
   "name": "python",
   "nbconvert_exporter": "python",
   "pygments_lexer": "ipython3",
   "version": "3.9.15"
  },
  "orig_nbformat": 4,
  "vscode": {
   "interpreter": {
    "hash": "4ee34b62edb80364ed23f6848b190186cfc7ce016bdec4c74edd21689226233e"
   }
  }
 },
 "nbformat": 4,
 "nbformat_minor": 2
}
