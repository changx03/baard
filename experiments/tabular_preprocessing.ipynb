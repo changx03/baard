{
 "cells": [
  {
   "cell_type": "markdown",
   "metadata": {},
   "source": [
    "# Preprocessing for tabular datasets\n",
    "\n",
    "## List of data\n",
    "\n",
    "1. australian\n",
    "2. banknote\n",
    "3. breastcancer\n",
    "4. cardiotocography\n",
    "5. cmc\n",
    "6. htru2\n",
    "7. phoneme\n",
    "8. ringnorm\n",
    "9. texture\n",
    "10. yeast"
   ]
  },
  {
   "cell_type": "code",
   "execution_count": 1,
   "metadata": {},
   "outputs": [],
   "source": [
    "import os\n",
    "from pathlib import Path\n",
    "from glob import glob\n",
    "\n",
    "import numpy as np\n",
    "import pandas as pd\n",
    "from pandas.api.types import CategoricalDtype\n",
    "from sklearn.preprocessing import MinMaxScaler\n"
   ]
  },
  {
   "cell_type": "code",
   "execution_count": 2,
   "metadata": {},
   "outputs": [
    {
     "name": "stdout",
     "output_type": "stream",
     "text": [
      "ROOT: /home/lukec/workspace/baard_v4\n"
     ]
    }
   ],
   "source": [
    "PATH_ROOT = Path(os.getcwd()).absolute().parent\n",
    "print('ROOT:', PATH_ROOT)"
   ]
  },
  {
   "cell_type": "code",
   "execution_count": 3,
   "metadata": {},
   "outputs": [
    {
     "name": "stdout",
     "output_type": "stream",
     "text": [
      "RAW: /home/lukec/workspace/baard_v4/data/tabular/raw\n",
      "/home/lukec/workspace/baard_v4/data/tabular/raw/australian.doc\n",
      "/home/lukec/workspace/baard_v4/data/tabular/raw/australian.dat\n",
      "/home/lukec/workspace/baard_v4/data/tabular/raw/cmc.names\n",
      "/home/lukec/workspace/baard_v4/data/tabular/raw/banknote.csv\n",
      "/home/lukec/workspace/baard_v4/data/tabular/raw/yeast.dat\n",
      "/home/lukec/workspace/baard_v4/data/tabular/raw/cmc.data\n",
      "/home/lukec/workspace/baard_v4/data/tabular/raw/texture.dat\n",
      "/home/lukec/workspace/baard_v4/data/tabular/raw/HTRU_2.csv\n",
      "/home/lukec/workspace/baard_v4/data/tabular/raw/phoneme.csv\n",
      "/home/lukec/workspace/baard_v4/data/tabular/raw/ringnorm.dat\n"
     ]
    }
   ],
   "source": [
    "PATH_RAW = Path(os.path.join(PATH_ROOT, 'data', 'tabular', 'raw'))\n",
    "print('RAW:', PATH_RAW)\n",
    "\n",
    "files = glob(os.path.join(PATH_RAW, '*'))\n",
    "print(*files, sep='\\n')"
   ]
  },
  {
   "cell_type": "code",
   "execution_count": 4,
   "metadata": {},
   "outputs": [],
   "source": [
    "def apply_minmax(df):\n",
    "    scaler = MinMaxScaler()\n",
    "    col_X = df.columns[~df.columns.isin([\"Class\"])]\n",
    "    df_preprocessing = pd.DataFrame(df)\n",
    "    df_preprocessing[col_X] = (\n",
    "        scaler.fit_transform(df[col_X])\n",
    "    )\n",
    "    df_preprocessing[\"Class\"] = df_preprocessing[\"Class\"].astype(int)\n",
    "    return df_preprocessing"
   ]
  },
  {
   "cell_type": "code",
   "execution_count": 5,
   "metadata": {},
   "outputs": [
    {
     "name": "stdout",
     "output_type": "stream",
     "text": [
      "['A1', 'A2', 'A3', 'A4', 'A5', 'A6', 'A7', 'A8', 'A9', 'A10', 'A11', 'A12', 'A13', 'A14', 'Class']\n",
      "    A1        A2        A3   A4        A5     A6        A7   A8   A9  \\\n",
      "0  1.0  0.125263  0.409286  0.5  0.230769  0.375  0.055614  0.0  0.0   \n",
      "1  0.0  0.134135  0.250000  0.5  0.538462  0.375  0.005789  0.0  0.0   \n",
      "2  0.0  0.238045  0.062500  0.0  0.230769  0.375  0.043860  0.0  0.0   \n",
      "3  0.0  0.119098  0.410714  0.0  0.307692  0.250  0.000000  1.0  1.0   \n",
      "4  1.0  0.096541  0.291786  0.5  0.384615  0.375  0.068772  1.0  1.0   \n",
      "\n",
      "        A10  A11  A12   A13      A14  Class  \n",
      "0  0.000000  1.0  0.5  0.05  0.01212      0  \n",
      "1  0.000000  0.0  0.5  0.08  0.00000      0  \n",
      "2  0.000000  1.0  0.5  0.14  0.00000      0  \n",
      "3  0.164179  1.0  0.5  0.00  0.00000      1  \n",
      "4  0.208955  0.0  0.5  0.03  0.00158      1  \n",
      "Shape: (690, 15)\n",
      "# classes: 2\n"
     ]
    }
   ],
   "source": [
    "# Australian\n",
    "path_data = os.path.join(PATH_RAW, \"australian.dat\")\n",
    "col_names = [\"A{}\".format(i) for i in range(1, 15)] + [\"Class\"]\n",
    "print(col_names)\n",
    "df = pd.read_csv(path_data, sep=\"\\s+\", names=col_names, header=None)\n",
    "df[\"Class\"] = df[\"Class\"].astype(\"category\").cat.codes\n",
    "\n",
    "df_preprocess = apply_minmax(df)\n",
    "print(df_preprocess.head())\n",
    "\n",
    "print('Shape:', df_preprocess.shape)\n",
    "print('# classes:', len(df_preprocess['Class'].unique()))"
   ]
  },
  {
   "cell_type": "code",
   "execution_count": 6,
   "metadata": {},
   "outputs": [],
   "source": [
    "df_preprocess.to_csv(\n",
    "    os.path.join(PATH_RAW.parent, 'australian_preprocessed.csv'),\n",
    "    index=False,\n",
    ")"
   ]
  },
  {
   "cell_type": "code",
   "execution_count": 7,
   "metadata": {},
   "outputs": [
    {
     "name": "stdout",
     "output_type": "stream",
     "text": [
      "   variance  skewness  curtosis   entropy  Class\n",
      "0  0.769004  0.839643  0.106783  0.736628      0\n",
      "1  0.835659  0.820982  0.121804  0.644326      0\n",
      "2  0.786629  0.416648  0.310608  0.786951      0\n",
      "3  0.757105  0.871699  0.054921  0.450440      0\n",
      "4  0.531578  0.348662  0.424662  0.687362      0\n",
      "Shape: (1372, 5)\n",
      "# classes: 2\n"
     ]
    }
   ],
   "source": [
    "# Banknote\n",
    "path_data = os.path.join(PATH_RAW, \"banknote.csv\")\n",
    "df = pd.read_csv(path_data)\n",
    "df[\"Class\"] = df[\"Class\"].astype(\"category\").cat.codes\n",
    "\n",
    "df_preprocess = apply_minmax(df)\n",
    "print(df_preprocess.head())\n",
    "\n",
    "print('Shape:', df_preprocess.shape)\n",
    "print('# classes:', len(df_preprocess['Class'].unique()))\n"
   ]
  },
  {
   "cell_type": "code",
   "execution_count": 8,
   "metadata": {},
   "outputs": [],
   "source": [
    "df_preprocess.to_csv(\n",
    "    os.path.join(PATH_RAW.parent, 'banknote_preprocessed.csv'),\n",
    "    index=False,\n",
    ")"
   ]
  },
  {
   "cell_type": "code",
   "execution_count": 9,
   "metadata": {},
   "outputs": [
    {
     "name": "stdout",
     "output_type": "stream",
     "text": [
      "   mean radius  mean texture  mean perimeter  mean area  mean smoothness  \\\n",
      "0     0.521037      0.022658        0.545989   0.363733         0.593753   \n",
      "1     0.643144      0.272574        0.615783   0.501591         0.289880   \n",
      "2     0.601496      0.390260        0.595743   0.449417         0.514309   \n",
      "3     0.210090      0.360839        0.233501   0.102906         0.811321   \n",
      "4     0.629893      0.156578        0.630986   0.489290         0.430351   \n",
      "\n",
      "   mean compactness  mean concavity  mean concave points  mean symmetry  \\\n",
      "0          0.792037        0.703140             0.731113       0.686364   \n",
      "1          0.181768        0.203608             0.348757       0.379798   \n",
      "2          0.431017        0.462512             0.635686       0.509596   \n",
      "3          0.811361        0.565604             0.522863       0.776263   \n",
      "4          0.347893        0.463918             0.518390       0.378283   \n",
      "\n",
      "   mean fractal dimension  ...  worst texture  worst perimeter  worst area  \\\n",
      "0                0.605518  ...       0.141525         0.668310    0.450698   \n",
      "1                0.141323  ...       0.303571         0.539818    0.435214   \n",
      "2                0.211247  ...       0.360075         0.508442    0.374508   \n",
      "3                1.000000  ...       0.385928         0.241347    0.094008   \n",
      "4                0.186816  ...       0.123934         0.506948    0.341575   \n",
      "\n",
      "   worst smoothness  worst compactness  worst concavity  worst concave points  \\\n",
      "0          0.601136           0.619292         0.568610              0.912027   \n",
      "1          0.347553           0.154563         0.192971              0.639175   \n",
      "2          0.483590           0.385375         0.359744              0.835052   \n",
      "3          0.915472           0.814012         0.548642              0.884880   \n",
      "4          0.437364           0.172415         0.319489              0.558419   \n",
      "\n",
      "   worst symmetry  worst fractal dimension  Class  \n",
      "0        0.598462                 0.418864      0  \n",
      "1        0.233590                 0.222878      0  \n",
      "2        0.403706                 0.213433      0  \n",
      "3        1.000000                 0.773711      0  \n",
      "4        0.157500                 0.142595      0  \n",
      "\n",
      "[5 rows x 31 columns]\n",
      "Shape: (569, 31)\n",
      "# classes: 2\n"
     ]
    }
   ],
   "source": [
    "# Breast Cancer\n",
    "from sklearn.datasets import load_breast_cancer\n",
    "\n",
    "dataset = load_breast_cancer()\n",
    "X = dataset.data\n",
    "y = dataset.target\n",
    "col_names = dataset.feature_names\n",
    "\n",
    "df = pd.DataFrame(X, columns=col_names)\n",
    "df[\"Class\"] = pd.Series(y, dtype=\"category\").cat.codes\n",
    "\n",
    "df_preprocess = apply_minmax(df)\n",
    "print(df_preprocess.head())\n",
    "\n",
    "print('Shape:', df_preprocess.shape)\n",
    "print('# classes:', len(df_preprocess['Class'].unique()))\n"
   ]
  },
  {
   "cell_type": "code",
   "execution_count": 10,
   "metadata": {},
   "outputs": [],
   "source": [
    "df_preprocess.to_csv(\n",
    "    os.path.join(PATH_RAW.parent, 'breastcancer_preprocessed.csv'),\n",
    "    index=False,\n",
    ")"
   ]
  },
  {
   "cell_type": "code",
   "execution_count": 11,
   "metadata": {},
   "outputs": [
    {
     "name": "stdout",
     "output_type": "stream",
     "text": [
      "      W_age     W_edu     H_edu  Children  W_religion  W_work     H_occ  \\\n",
      "0  0.242424  0.333333  0.666667    0.1875         1.0     1.0  0.333333   \n",
      "1  0.878788  0.000000  0.666667    0.6250         1.0     1.0  0.666667   \n",
      "2  0.818182  0.333333  0.666667    0.4375         1.0     1.0  0.666667   \n",
      "3  0.787879  0.666667  0.333333    0.5625         1.0     1.0  0.666667   \n",
      "4  0.606061  0.666667  0.666667    0.5000         1.0     1.0  0.666667   \n",
      "\n",
      "        SoL  Media  Class  \n",
      "0  0.666667    0.0      0  \n",
      "1  1.000000    0.0      0  \n",
      "2  1.000000    0.0      0  \n",
      "3  0.666667    0.0      0  \n",
      "4  0.333333    0.0      0  \n",
      "Shape: (1473, 10)\n",
      "# classes: 3\n"
     ]
    }
   ],
   "source": [
    "# CMC\n",
    "path_data = os.path.join(PATH_RAW, \"cmc.data\")\n",
    "col_names = [\n",
    "    \"W_age\",\n",
    "    \"W_edu\",\n",
    "    \"H_edu\",\n",
    "    \"Children\",\n",
    "    \"W_religion\",\n",
    "    \"W_work\",\n",
    "    \"H_occ\",\n",
    "    \"SoL\",\n",
    "    \"Media\",\n",
    "    \"Class\",\n",
    "]\n",
    "df = pd.read_csv(path_data, index_col=None, header=None, names=col_names)\n",
    "df[\"Class\"] = df[\"Class\"].astype(\"category\").cat.codes\n",
    "\n",
    "df_preprocess = apply_minmax(df)\n",
    "print(df_preprocess.head())\n",
    "\n",
    "print('Shape:', df_preprocess.shape)\n",
    "print('# classes:', len(df_preprocess['Class'].unique()))\n"
   ]
  },
  {
   "cell_type": "code",
   "execution_count": 12,
   "metadata": {},
   "outputs": [],
   "source": [
    "df_preprocess.to_csv(\n",
    "    os.path.join(PATH_RAW.parent, 'cmc_preprocessed.csv'),\n",
    "    index=False,\n",
    ")"
   ]
  },
  {
   "cell_type": "code",
   "execution_count": 13,
   "metadata": {},
   "outputs": [
    {
     "name": "stdout",
     "output_type": "stream",
     "text": [
      "         A1        A2        A3        A4        A5        A6        A7  \\\n",
      "0  0.721342  0.417687  0.165043  0.015627  0.013382  0.113681  0.294986   \n",
      "1  0.517628  0.460908  0.235415  0.018268  0.006560  0.072524  0.364015   \n",
      "2  0.520346  0.196868  0.221138  0.040677  0.013030  0.139188  0.288624   \n",
      "3  0.700933  0.437884  0.181750  0.016534  0.015368  0.131583  0.266348   \n",
      "4  0.443854  0.214847  0.249044  0.041712  0.004327  0.039684  0.462029   \n",
      "\n",
      "         A8  Class  \n",
      "0  0.063890      0  \n",
      "1  0.108443      0  \n",
      "2  0.054610      0  \n",
      "3  0.046581      0  \n",
      "4  0.213369      0  \n",
      "Shape: (17898, 9)\n",
      "# classes: 2\n"
     ]
    }
   ],
   "source": [
    "# HTRU2\n",
    "path_data = os.path.join(PATH_RAW, \"HTRU_2.csv\")\n",
    "col_names = [\"A{}\".format(i) for i in range(1, 9)] + [\"Class\"]\n",
    "df = pd.read_csv(path_data, names=col_names, index_col=None, header=None)\n",
    "df[\"Class\"] = df[\"Class\"].astype(\"category\").cat.codes\n",
    "\n",
    "df_preprocess = apply_minmax(df)\n",
    "print(df_preprocess.head())\n",
    "\n",
    "print('Shape:', df_preprocess.shape)\n",
    "print('# classes:', len(df_preprocess['Class'].unique()))\n"
   ]
  },
  {
   "cell_type": "code",
   "execution_count": 14,
   "metadata": {},
   "outputs": [],
   "source": [
    "df_preprocess.to_csv(\n",
    "    os.path.join(PATH_RAW.parent, 'htru2_preprocessed.csv'),\n",
    "    index=False,\n",
    ")"
   ]
  },
  {
   "cell_type": "code",
   "execution_count": 15,
   "metadata": {},
   "outputs": [
    {
     "name": "stdout",
     "output_type": "stream",
     "text": [
      "         V1        V2        V3        V4        V5  Class\n",
      "0  0.506286  0.385946  0.322087  0.341025  0.337504      0\n",
      "1  0.339008  0.469601  0.569034  0.283524  0.374984      0\n",
      "2  0.562579  0.384703  0.621742  0.595047  0.460548      0\n",
      "3  0.340904  0.406122  0.871641  0.191285  0.320799      0\n",
      "4  0.345642  0.455681  0.891710  0.144044  0.204100      0\n",
      "Shape: (5404, 6)\n",
      "# classes: 2\n"
     ]
    }
   ],
   "source": [
    "# Phoneme\n",
    "path_data = os.path.join(PATH_RAW, \"phoneme.csv\")\n",
    "df = pd.read_csv(path_data, index_col=None)\n",
    "df[\"Class\"] = df[\"Class\"].astype(\"category\").cat.codes\n",
    "\n",
    "df_preprocess = apply_minmax(df)\n",
    "print(df_preprocess.head())\n",
    "\n",
    "print('Shape:', df_preprocess.shape)\n",
    "print('# classes:', len(df_preprocess['Class'].unique()))\n"
   ]
  },
  {
   "cell_type": "code",
   "execution_count": 16,
   "metadata": {},
   "outputs": [],
   "source": [
    "df_preprocess.to_csv(\n",
    "    os.path.join(PATH_RAW.parent, 'phoneme_preprocessed.csv'),\n",
    "    index=False,\n",
    ")"
   ]
  },
  {
   "cell_type": "code",
   "execution_count": 17,
   "metadata": {},
   "outputs": [
    {
     "name": "stdout",
     "output_type": "stream",
     "text": [
      "         A1        A2        A3        A4        A5        A6        A7  \\\n",
      "0  0.594500  0.546437  0.554969  0.448461  0.528930  0.603550  0.606924   \n",
      "1  0.580219  0.485493  0.562529  0.354530  0.677158  0.589013  0.617944   \n",
      "2  0.562899  0.605533  0.537700  0.570049  0.612221  0.507123  0.465946   \n",
      "3  0.412944  0.583559  0.638970  0.496080  0.465763  0.449996  0.741931   \n",
      "4  0.502963  0.173873  0.470186  0.950639  0.391096  0.466725  0.548770   \n",
      "\n",
      "         A8        A9       A10  ...       A12       A13       A14       A15  \\\n",
      "0  0.515220  0.599005  0.637501  ...  0.494361  0.618935  0.548429  0.343211   \n",
      "1  0.530100  0.456342  0.506684  ...  0.529184  0.569968  0.539333  0.636673   \n",
      "2  0.691820  0.563493  0.580456  ...  0.596222  0.707460  0.547003  0.448416   \n",
      "3  0.492182  0.555858  0.492601  ...  0.817003  0.517001  0.324306  0.499932   \n",
      "4  0.940705  0.485447  0.646579  ...  0.612858  0.382991  0.511301  0.299103   \n",
      "\n",
      "        A16       A17       A18       A19       A20  Class  \n",
      "0  0.579567  0.686986  0.469312  0.523193  0.633912      1  \n",
      "1  0.609725  0.476147  0.565076  0.653389  0.489511      1  \n",
      "2  0.594396  0.563468  0.529667  0.569277  0.435222      1  \n",
      "3  0.799800  0.594155  0.499809  0.523494  0.632100      0  \n",
      "4  0.368459  0.429349  0.493556  0.707003  0.385114      0  \n",
      "\n",
      "[5 rows x 21 columns]\n",
      "Shape: (7399, 21)\n",
      "# classes: 2\n"
     ]
    }
   ],
   "source": [
    "# Ringnorm\n",
    "path_data = os.path.join(PATH_RAW, \"ringnorm.dat\")\n",
    "col_names = [\"A{}\".format(i) for i in range(1, 21)] + [\"Class\"]\n",
    "df = pd.read_csv(path_data, skiprows=26, names=col_names, header=None, index_col=None)\n",
    "df[\"Class\"] = df[\"Class\"].astype(\"category\").cat.codes\n",
    "\n",
    "df_preprocess = apply_minmax(df)\n",
    "print(df_preprocess.head())\n",
    "\n",
    "print('Shape:', df_preprocess.shape)\n",
    "print('# classes:', len(df_preprocess['Class'].unique()))\n"
   ]
  },
  {
   "cell_type": "code",
   "execution_count": 18,
   "metadata": {},
   "outputs": [],
   "source": [
    "df_preprocess.to_csv(\n",
    "    os.path.join(PATH_RAW.parent, 'ringnorm_preprocessed.csv'),\n",
    "    index=False,\n",
    ")"
   ]
  },
  {
   "cell_type": "code",
   "execution_count": 19,
   "metadata": {},
   "outputs": [
    {
     "name": "stdout",
     "output_type": "stream",
     "text": [
      "         A1        A2        A3        A4        A5        A6        A7  \\\n",
      "0  0.102068  0.262745  0.267836  0.277385  0.340483  0.406186  0.238315   \n",
      "1  0.017986  0.111765  0.179565  0.126620  0.195040  0.224742  0.095211   \n",
      "2  0.154227  0.360131  0.411729  0.363958  0.459786  0.484536  0.303520   \n",
      "3  0.080935  0.225490  0.212817  0.237338  0.290885  0.367010  0.193883   \n",
      "4  0.053507  0.220915  0.331923  0.247939  0.371984  0.441237  0.202539   \n",
      "\n",
      "         A8        A9       A10  ...       A32       A33       A34       A35  \\\n",
      "0  0.305142  0.341365  0.241785  ...  0.236812  0.324918  0.284819  0.346863   \n",
      "1  0.154939  0.188755  0.137012  ...  0.149083  0.206915  0.192201  0.259779   \n",
      "2  0.407307  0.443106  0.357719  ...  0.279243  0.385291  0.372563  0.475277   \n",
      "3  0.253721  0.292503  0.167390  ...  0.200688  0.234907  0.243036  0.293727   \n",
      "4  0.324763  0.375502  0.296962  ...  0.182339  0.316136  0.236072  0.346863   \n",
      "\n",
      "        A36       A37       A38       A39       A40  Class  \n",
      "0  0.373524  0.284438  0.369481  0.397496  0.361905      0  \n",
      "1  0.258853  0.178704  0.270333  0.295775  0.236905      0  \n",
      "2  0.558179  0.377513  0.495740  0.545383  0.444048      0  \n",
      "3  0.288364  0.235294  0.312936  0.327856  0.259524      0  \n",
      "4  0.394604  0.224125  0.352440  0.389671  0.337500      0  \n",
      "\n",
      "[5 rows x 41 columns]\n",
      "Shape: (5500, 41)\n",
      "# classes: 11\n"
     ]
    }
   ],
   "source": [
    "# Texture\n",
    "path_data = os.path.join(PATH_RAW, \"texture.dat\")\n",
    "col_names = [\"A{}\".format(i) for i in range(1, 41)] + [\"Class\"]\n",
    "df = pd.read_csv(path_data, skiprows=45, names=col_names, header=None, index_col=None)\n",
    "df[\"Class\"] = df[\"Class\"].astype(\"category\").cat.codes\n",
    "\n",
    "df_preprocess = apply_minmax(df)\n",
    "print(df_preprocess.head())\n",
    "\n",
    "print('Shape:', df_preprocess.shape)\n",
    "print('# classes:', len(df_preprocess['Class'].unique()))\n"
   ]
  },
  {
   "cell_type": "code",
   "execution_count": 20,
   "metadata": {},
   "outputs": [],
   "source": [
    "df_preprocess.to_csv(\n",
    "    os.path.join(PATH_RAW.parent, 'texture_preprocessed.csv'),\n",
    "    index=False,\n",
    ")"
   ]
  },
  {
   "cell_type": "code",
   "execution_count": 21,
   "metadata": {},
   "outputs": [
    {
     "name": "stdout",
     "output_type": "stream",
     "text": [
      "        Mcg       Gvh       Alm   Mit  Erl  Pox       Vac   Nuc  Class\n",
      "0  0.528090  0.551724  0.329114  0.13  0.0  0.0  0.657534  0.22      6\n",
      "1  0.359551  0.620690  0.341772  0.27  0.0  0.0  0.726027  0.22      6\n",
      "2  0.595506  0.563218  0.354430  0.15  0.0  0.0  0.726027  0.22      6\n",
      "3  0.528090  0.356322  0.455696  0.13  0.0  0.0  0.739726  0.22      7\n",
      "4  0.348315  0.356322  0.341772  0.54  0.0  0.0  0.657534  0.22      6\n",
      "Shape: (1484, 9)\n",
      "# classes: 10\n"
     ]
    }
   ],
   "source": [
    "# Yeast\n",
    "path_data = os.path.join(PATH_RAW, \"yeast.dat\")\n",
    "col_names = [\n",
    "    \"Mcg\",\n",
    "    \"Gvh\",\n",
    "    \"Alm\",\n",
    "    \"Mit\",\n",
    "    \"Erl\",\n",
    "    \"Pox\",\n",
    "    \"Vac\",\n",
    "    \"Nuc\",\n",
    "    \"Class\",\n",
    "]\n",
    "output_names = [\n",
    "    \"MIT\",\n",
    "    \"NUC\",\n",
    "    \"CYT\",\n",
    "    \"ME1\",\n",
    "    \"ME2\",\n",
    "    \"ME3\",\n",
    "    \"EXC\",\n",
    "    \"VAC\",\n",
    "    \"POX\",\n",
    "    \"ERL\",\n",
    "]\n",
    "df = pd.read_csv(path_data, skiprows=13, names=col_names, header=None, index_col=None)\n",
    "cattype = CategoricalDtype(categories=output_names, ordered=False)\n",
    "df[\"Class\"] = df[\"Class\"].astype(\"category\").cat.codes\n",
    "\n",
    "df_preprocess = apply_minmax(df)\n",
    "print(df_preprocess.head())\n",
    "\n",
    "print('Shape:', df_preprocess.shape)\n",
    "print('# classes:', len(df_preprocess['Class'].unique()))\n"
   ]
  },
  {
   "cell_type": "code",
   "execution_count": 22,
   "metadata": {},
   "outputs": [],
   "source": [
    "df_preprocess.to_csv(\n",
    "    os.path.join(PATH_RAW.parent, 'yeast_preprocessed.csv'),\n",
    "    index=False,\n",
    ")"
   ]
  }
 ],
 "metadata": {
  "kernelspec": {
   "display_name": "Python 3.9.15 ('.venv': venv)",
   "language": "python",
   "name": "python3"
  },
  "language_info": {
   "codemirror_mode": {
    "name": "ipython",
    "version": 3
   },
   "file_extension": ".py",
   "mimetype": "text/x-python",
   "name": "python",
   "nbconvert_exporter": "python",
   "pygments_lexer": "ipython3",
   "version": "3.9.15"
  },
  "orig_nbformat": 4,
  "vscode": {
   "interpreter": {
    "hash": "4ee34b62edb80364ed23f6848b190186cfc7ce016bdec4c74edd21689226233e"
   }
  }
 },
 "nbformat": 4,
 "nbformat_minor": 2
}
