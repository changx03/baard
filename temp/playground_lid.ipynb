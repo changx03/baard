{
 "cells": [
  {
   "cell_type": "code",
   "execution_count": 1,
   "metadata": {},
   "outputs": [],
   "source": [
    "import os\n",
    "import sys\n",
    "from pathlib import Path\n",
    "\n",
    "sys.path.append('..')\n"
   ]
  },
  {
   "cell_type": "code",
   "execution_count": 2,
   "metadata": {},
   "outputs": [
    {
     "name": "stdout",
     "output_type": "stream",
     "text": [
      "/home/lukec/workspace/baard_v4\n"
     ]
    }
   ],
   "source": [
    "# Parameters for development:\n",
    "SEED_DEV = 0\n",
    "DATASET = 'MNIST'\n",
    "PATH_ROOT = Path(os.getcwd()).absolute().parent\n",
    "PATH_CHECKPOINT = os.path.join(PATH_ROOT, 'pretrained_clf', 'mnist_cnn.ckpt')\n",
    "PATH_DATA_CLEAN = os.path.join(PATH_ROOT, 'results', 'exp1234', 'MNIST', 'AdvClean.n_100.pt')\n",
    "PATH_DATA_ADV = os.path.join(PATH_ROOT, 'results', 'exp1234', 'MNIST', 'FGSM.Linf.n_100.e_0.28.pt')\n",
    "\n",
    "print(PATH_ROOT)"
   ]
  },
  {
   "cell_type": "code",
   "execution_count": 3,
   "metadata": {},
   "outputs": [],
   "source": [
    "import torch \n",
    "from torch import Tensor\n",
    "\n",
    "from baard.classifiers import DATASETS, MNIST_CNN\n",
    "from baard.utils.torch_utils import dataset2tensor"
   ]
  },
  {
   "cell_type": "code",
   "execution_count": 4,
   "metadata": {},
   "outputs": [],
   "source": [
    "my_model = MNIST_CNN.load_from_checkpoint(PATH_CHECKPOINT)"
   ]
  },
  {
   "cell_type": "code",
   "execution_count": 5,
   "metadata": {},
   "outputs": [
    {
     "name": "stdout",
     "output_type": "stream",
     "text": [
      "N_BATCHES: 235\n"
     ]
    }
   ],
   "source": [
    "loader_train = my_model.train_dataloader()\n",
    "\n",
    "print('N_BATCHES:', len(loader_train))"
   ]
  },
  {
   "cell_type": "code",
   "execution_count": 6,
   "metadata": {},
   "outputs": [
    {
     "data": {
      "text/plain": [
       "tensor([[1., 1., 1., 1., 1., 1., 1., 1., 1., 1.]])"
      ]
     },
     "execution_count": 6,
     "metadata": {},
     "output_type": "execute_result"
    }
   ],
   "source": [
    "out_x = torch.ones([1, 10])\n",
    "out_x"
   ]
  },
  {
   "cell_type": "code",
   "execution_count": 7,
   "metadata": {},
   "outputs": [
    {
     "data": {
      "text/plain": [
       "tensor([[0.3838, 0.9344, 0.2960, 0.1121, 0.7724, 0.5019, 0.2902, 0.6124, 0.5415,\n",
       "         0.4882],\n",
       "        [0.2683, 0.3230, 0.1970, 0.7373, 0.3190, 0.8449, 0.2340, 0.6253, 0.5500,\n",
       "         0.8823],\n",
       "        [0.7077, 0.6314, 0.2260, 0.9094, 0.3002, 0.2239, 0.7439, 0.7130, 0.1006,\n",
       "         0.4893],\n",
       "        [0.8219, 0.8388, 0.6175, 0.4072, 0.2304, 0.3778, 0.8319, 0.2559, 0.0707,\n",
       "         0.4168],\n",
       "        [0.4078, 0.3945, 0.6803, 0.3790, 0.5618, 0.5245, 0.9495, 0.1513, 0.4839,\n",
       "         0.1241]])"
      ]
     },
     "execution_count": 7,
     "metadata": {},
     "output_type": "execute_result"
    }
   ],
   "source": [
    "out_neighbors = torch.rand([100, 10])\n",
    "out_neighbors[:5]"
   ]
  },
  {
   "cell_type": "code",
   "execution_count": 8,
   "metadata": {},
   "outputs": [
    {
     "data": {
      "text/plain": [
       "tensor([1.7590, 1.7716, 1.7716, 1.8222, 1.8384, 1.7720, 2.0014, 1.6906, 2.0201,\n",
       "        2.2896, 1.7390, 2.1076, 2.0130, 1.5232, 1.5277, 1.5928, 1.5179, 1.2507,\n",
       "        1.7426, 1.7740, 1.8373, 1.5460, 1.8588, 1.3966, 1.7502, 2.2568, 2.2418,\n",
       "        1.8251, 1.5505, 1.6906, 1.3846, 2.0466, 1.0446, 1.6668, 1.6220, 1.8653,\n",
       "        1.7152, 1.9763, 1.8049, 1.5903, 1.8361, 2.0875, 1.7095, 1.4850, 2.0638,\n",
       "        1.8683, 2.1689, 1.3711, 2.0118, 1.9425, 1.8881, 1.6111, 2.1733, 1.7556,\n",
       "        2.2239, 2.1002, 1.7577, 1.3280, 1.6377, 2.3754, 1.6075, 1.9305, 2.2990,\n",
       "        1.7156, 2.0188, 2.0575, 2.1548, 1.6505, 1.3199, 2.3857, 1.9721, 2.0631,\n",
       "        1.9617, 2.0254, 1.6487, 1.6255, 1.6487, 1.5742, 1.9877, 1.8489, 1.8782,\n",
       "        1.9665, 2.1459, 1.7961, 1.8274, 1.5183, 2.0978, 1.5085, 1.8756, 2.1728,\n",
       "        2.2192, 1.9371, 1.3039, 2.0415, 1.9992, 2.1436, 1.5154, 1.3798, 2.0325,\n",
       "        1.6883])"
      ]
     },
     "execution_count": 8,
     "metadata": {},
     "output_type": "execute_result"
    }
   ],
   "source": [
    "pairwise_dist = torch.pairwise_distance(out_x, out_neighbors, p=2)\n",
    "pairwise_dist"
   ]
  },
  {
   "cell_type": "code",
   "execution_count": 9,
   "metadata": {},
   "outputs": [],
   "source": [
    "def get_MLE_LID(x: Tensor, batch: Tensor, k: int) -> float:\n",
    "    pairwise_dist = torch.pairwise_distance(x, batch, p=2)\n",
    "    k_dist, k_indices = torch.topk(pairwise_dist, k=k, sorted=True, largest=True)\n",
    "    max_dist = k_dist[0]  # 1st is the largest.\n",
    "    lid = - len(k_dist) / torch.log(k_dist / max_dist).sum()\n",
    "    return lid.item()"
   ]
  },
  {
   "cell_type": "code",
   "execution_count": 10,
   "metadata": {},
   "outputs": [
    {
     "data": {
      "text/plain": [
       "11.470376968383789"
      ]
     },
     "execution_count": 10,
     "metadata": {},
     "output_type": "execute_result"
    }
   ],
   "source": [
    "result = get_MLE_LID(out_x, out_neighbors, 20)\n",
    "result"
   ]
  },
  {
   "cell_type": "code",
   "execution_count": 11,
   "metadata": {},
   "outputs": [
    {
     "data": {
      "text/plain": [
       "torch.Size([3, 1, 28, 28])"
      ]
     },
     "execution_count": 11,
     "metadata": {},
     "output_type": "execute_result"
    }
   ],
   "source": [
    "a = torch.rand((1, 1, 28, 28))\n",
    "b = torch.rand((1, 1, 28, 28))\n",
    "c = torch.rand((1, 1, 28, 28))\n",
    "\n",
    "torch.vstack([a, b, c]).size()"
   ]
  },
  {
   "cell_type": "code",
   "execution_count": 12,
   "metadata": {},
   "outputs": [
    {
     "name": "stdout",
     "output_type": "stream",
     "text": [
      "Tensor: tensor([[1., 2., 3.],\n",
      "        [4., 5., 6.],\n",
      "        [7., 8., 9.]])\n"
     ]
    }
   ],
   "source": [
    "t = torch.tensor([\n",
    "    [1.,2.,3.],\n",
    "    [4.,5.,6.],\n",
    "    [7., 8., 9.],\n",
    "])\n",
    "print(\"Tensor:\", t)"
   ]
  },
  {
   "cell_type": "code",
   "execution_count": 13,
   "metadata": {},
   "outputs": [
    {
     "name": "stdout",
     "output_type": "stream",
     "text": [
      "Normalized tensor: tensor([[0.1667, 0.3333, 0.5000],\n",
      "        [0.2667, 0.3333, 0.4000],\n",
      "        [0.2917, 0.3333, 0.3750]])\n",
      "Normalized tensor: tensor([[0.1231, 0.2074, 0.2673],\n",
      "        [0.4924, 0.5185, 0.5345],\n",
      "        [0.8616, 0.8296, 0.8018]])\n"
     ]
    }
   ],
   "source": [
    "import torch.nn.functional as F\n",
    "\n",
    "t1 = F.normalize(t, p=1.0, dim = 1)\n",
    "t2 = F.normalize(t, p=2.0, dim = 0)\n",
    "\n",
    "print(\"Normalized tensor:\", t1)\n",
    "print(\"Normalized tensor:\", t2)"
   ]
  },
  {
   "cell_type": "code",
   "execution_count": 14,
   "metadata": {},
   "outputs": [
    {
     "data": {
      "text/plain": [
       "tensor([0.3333, 0.3333, 0.3333])"
      ]
     },
     "execution_count": 14,
     "metadata": {},
     "output_type": "execute_result"
    }
   ],
   "source": [
    "t1.mean(1)"
   ]
  },
  {
   "cell_type": "code",
   "execution_count": 15,
   "metadata": {},
   "outputs": [
    {
     "data": {
      "text/plain": [
       "tensor([0.1992, 0.5151, 0.8310])"
      ]
     },
     "execution_count": 15,
     "metadata": {},
     "output_type": "execute_result"
    }
   ],
   "source": [
    "t2.mean(1)"
   ]
  },
  {
   "cell_type": "code",
   "execution_count": 16,
   "metadata": {},
   "outputs": [],
   "source": [
    "def min_max_normalize(X: Tensor, dim=0) -> Tensor:\n",
    "    \"\"\"Apply min-max normalization.\"\"\"\n",
    "    X_min = torch.min(X, dim=dim)[0].unsqueeze(dim=dim)\n",
    "    X_max = torch.max(X, dim=dim)[0].unsqueeze(dim=dim)\n",
    "    X_norm = (X - X_min) / (X_max - X_min)\n",
    "    return X_norm"
   ]
  },
  {
   "cell_type": "code",
   "execution_count": 17,
   "metadata": {},
   "outputs": [
    {
     "data": {
      "text/plain": [
       "tensor([[0.0000, 0.0000, 0.0000],\n",
       "        [0.5000, 0.5000, 0.5000],\n",
       "        [1.0000, 1.0000, 1.0000]])"
      ]
     },
     "execution_count": 17,
     "metadata": {},
     "output_type": "execute_result"
    }
   ],
   "source": [
    "min_max_normalize(t)"
   ]
  },
  {
   "cell_type": "code",
   "execution_count": 18,
   "metadata": {},
   "outputs": [],
   "source": [
    "X_min = torch.min(t, dim=1)[0].unsqueeze(dim=1)\n",
    "X_max = torch.max(t, dim=1)[0].unsqueeze(dim=1)\n"
   ]
  },
  {
   "cell_type": "code",
   "execution_count": 19,
   "metadata": {},
   "outputs": [
    {
     "name": "stdout",
     "output_type": "stream",
     "text": [
      "tensor([[1.],\n",
      "        [4.],\n",
      "        [7.]])\n",
      "tensor([[3.],\n",
      "        [6.],\n",
      "        [9.]])\n"
     ]
    }
   ],
   "source": [
    "print(X_min)\n",
    "print(X_max)"
   ]
  },
  {
   "cell_type": "code",
   "execution_count": 20,
   "metadata": {},
   "outputs": [
    {
     "data": {
      "text/plain": [
       "torch.return_types.topk(\n",
       "values=tensor([1., 2., 3.]),\n",
       "indices=tensor([0, 1, 2]))"
      ]
     },
     "execution_count": 20,
     "metadata": {},
     "output_type": "execute_result"
    }
   ],
   "source": [
    "x = torch.arange(1., 6.)\n",
    "torch.topk(x, 3, largest=False, sorted=True)"
   ]
  },
  {
   "cell_type": "code",
   "execution_count": 21,
   "metadata": {},
   "outputs": [
    {
     "data": {
      "text/plain": [
       "tensor([[[1.]],\n",
       "\n",
       "        [[4.]],\n",
       "\n",
       "        [[7.]]])"
      ]
     },
     "execution_count": 21,
     "metadata": {},
     "output_type": "execute_result"
    }
   ],
   "source": [
    "X_min.unsqueeze(dim=1)"
   ]
  },
  {
   "cell_type": "code",
   "execution_count": 22,
   "metadata": {},
   "outputs": [
    {
     "data": {
      "text/plain": [
       "array([[0. , 0. , 0. ],\n",
       "       [0.5, 0.5, 0.5],\n",
       "       [1. , 1. , 1. ]])"
      ]
     },
     "execution_count": 22,
     "metadata": {},
     "output_type": "execute_result"
    }
   ],
   "source": [
    "import sklearn.preprocessing as P\n",
    "\n",
    "scaler = P.MinMaxScaler((0, 1))\n",
    "scaler.fit_transform(t)"
   ]
  },
  {
   "cell_type": "code",
   "execution_count": 24,
   "metadata": {},
   "outputs": [],
   "source": [
    "import numpy as np\n",
    "\n",
    "def get_MLE_LID(x: Tensor, batch: Tensor, k: int) -> Tensor:\n",
    "    \"\"\"Compute one sample Maximum Likelihood Estimator of LID within k nearest neighbors.\n",
    "    It the batch contains x itself, it returns LID from k-1 neighbors.\n",
    "    \"\"\"\n",
    "    pairwise_dist = torch.pairwise_distance(x, batch, p=2)\n",
    "    # Nearest neighbors = smallest distance\n",
    "    k_dist, _ = torch.topk(pairwise_dist, k=k, sorted=True, largest=False)  # Returns (values, indices)\n",
    "    if np.isclose(k_dist[0].item(), 0):  # Find x itself\n",
    "        k_dist = k_dist[1:]  # Find k+1 and discard itself.\n",
    "    max_dist = k_dist[-1]  # the max neighbor distance\n",
    "    lid = - len(k_dist) / torch.log(k_dist / max_dist).sum()\n",
    "    return lid"
   ]
  },
  {
   "cell_type": "code",
   "execution_count": 27,
   "metadata": {},
   "outputs": [
    {
     "data": {
      "text/plain": [
       "tensor(10.8017)"
      ]
     },
     "execution_count": 27,
     "metadata": {},
     "output_type": "execute_result"
    }
   ],
   "source": [
    "a = torch.zeros((1, 10))\n",
    "a_neighbors = torch.rand((100, 10))\n",
    "k = 20\n",
    "get_MLE_LID(a, a_neighbors, k)"
   ]
  },
  {
   "cell_type": "code",
   "execution_count": 28,
   "metadata": {},
   "outputs": [
    {
     "data": {
      "text/plain": [
       "tensor(108.5023)"
      ]
     },
     "execution_count": 28,
     "metadata": {},
     "output_type": "execute_result"
    }
   ],
   "source": [
    "b = torch.zeros((1, 1000))\n",
    "b_neighbors = torch.rand((100, 1000))\n",
    "k = 20\n",
    "get_MLE_LID(b, b_neighbors, k)"
   ]
  },
  {
   "cell_type": "code",
   "execution_count": 30,
   "metadata": {},
   "outputs": [
    {
     "data": {
      "text/plain": [
       "tensor([[0.2673, 0.5345, 0.8018],\n",
       "        [0.4558, 0.5698, 0.6838],\n",
       "        [0.5026, 0.5744, 0.6462]])"
      ]
     },
     "execution_count": 30,
     "metadata": {},
     "output_type": "execute_result"
    }
   ],
   "source": [
    "t_d1 = torch.nn.functional.normalize(t, p=2.0, dim=1)\n",
    "t_d1"
   ]
  },
  {
   "cell_type": "code",
   "execution_count": 31,
   "metadata": {},
   "outputs": [
    {
     "data": {
      "text/plain": [
       "tensor([[0.1231, 0.2074, 0.2673],\n",
       "        [0.4924, 0.5185, 0.5345],\n",
       "        [0.8616, 0.8296, 0.8018]])"
      ]
     },
     "execution_count": 31,
     "metadata": {},
     "output_type": "execute_result"
    }
   ],
   "source": [
    "t_d0 = torch.nn.functional.normalize(t, p=2.0, dim=0)\n",
    "t_d0"
   ]
  },
  {
   "cell_type": "code",
   "execution_count": null,
   "metadata": {},
   "outputs": [],
   "source": []
  }
 ],
 "metadata": {
  "kernelspec": {
   "display_name": "Python 3.9.15 ('venv': venv)",
   "language": "python",
   "name": "python3"
  },
  "language_info": {
   "codemirror_mode": {
    "name": "ipython",
    "version": 3
   },
   "file_extension": ".py",
   "mimetype": "text/x-python",
   "name": "python",
   "nbconvert_exporter": "python",
   "pygments_lexer": "ipython3",
   "version": "3.9.15"
  },
  "orig_nbformat": 4,
  "vscode": {
   "interpreter": {
    "hash": "ca1e3ec0254efb300f2de71f1d983378da29e4ede80290b822db9c2199a6e419"
   }
  }
 },
 "nbformat": 4,
 "nbformat_minor": 2
}
