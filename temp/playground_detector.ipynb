{
 "cells": [
  {
   "cell_type": "code",
   "execution_count": 1,
   "metadata": {},
   "outputs": [],
   "source": [
    "import numpy as np\n",
    "\n",
    "from baard.detections import DETECTORS"
   ]
  },
  {
   "cell_type": "code",
   "execution_count": 2,
   "metadata": {},
   "outputs": [
    {
     "name": "stdout",
     "output_type": "stream",
     "text": [
      "0 FS\n",
      "1 LID\n",
      "2 ML-LOO\n",
      "3 Odds\n",
      "4 PN\n",
      "5 RC\n",
      "6 BAARD-S1\n",
      "7 BAARD-S2\n",
      "8 BAARD-S3\n",
      "9 BAARD\n"
     ]
    }
   ],
   "source": [
    "for i in range(len(DETECTORS)):\n",
    "    print(i, DETECTORS[i])"
   ]
  },
  {
   "cell_type": "code",
   "execution_count": 3,
   "metadata": {},
   "outputs": [
    {
     "data": {
      "text/plain": [
       "['n0.003',\n",
       " 'n0.005',\n",
       " 'n0.008',\n",
       " 'n0.01',\n",
       " 'n0.02',\n",
       " 'n0.03',\n",
       " 's0.003',\n",
       " 's0.005',\n",
       " 's0.008',\n",
       " 's0.01',\n",
       " 's0.02',\n",
       " 's0.03',\n",
       " 'u0.003',\n",
       " 'u0.005',\n",
       " 'u0.008',\n",
       " 'u0.01',\n",
       " 'u0.02',\n",
       " 'u0.03']"
      ]
     },
     "execution_count": 3,
     "metadata": {},
     "output_type": "execute_result"
    }
   ],
   "source": [
    "# Noise list for Odds detector\n",
    "noise_list = []\n",
    "for ntype in ['n', 's', 'u']:\n",
    "    for eps in [0.003, 0.005, 0.008, 0.01, 0.02, 0.03]:\n",
    "        noise_list.append(f'{ntype}{eps}')\n",
    "\n",
    "noise_list\n"
   ]
  }
 ],
 "metadata": {
  "kernelspec": {
   "display_name": "Python 3.9.15 ('.venv': venv)",
   "language": "python",
   "name": "python3"
  },
  "language_info": {
   "codemirror_mode": {
    "name": "ipython",
    "version": 3
   },
   "file_extension": ".py",
   "mimetype": "text/x-python",
   "name": "python",
   "nbconvert_exporter": "python",
   "pygments_lexer": "ipython3",
   "version": "3.9.15"
  },
  "orig_nbformat": 4,
  "vscode": {
   "interpreter": {
    "hash": "4ee34b62edb80364ed23f6848b190186cfc7ce016bdec4c74edd21689226233e"
   }
  }
 },
 "nbformat": 4,
 "nbformat_minor": 2
}
