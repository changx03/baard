{
 "cells": [
  {
   "cell_type": "code",
   "execution_count": 1,
   "metadata": {},
   "outputs": [],
   "source": [
    "import os\n",
    "import sys\n",
    "from pathlib import Path\n",
    "\n",
    "sys.path.append('..')\n"
   ]
  },
  {
   "cell_type": "code",
   "execution_count": 2,
   "metadata": {},
   "outputs": [],
   "source": [
    "%load_ext autoreload\n",
    "%autoreload 2"
   ]
  },
  {
   "cell_type": "code",
   "execution_count": 3,
   "metadata": {},
   "outputs": [],
   "source": [
    "import torch\n",
    "import pytorch_lightning as pl\n",
    "import numpy as np"
   ]
  },
  {
   "cell_type": "code",
   "execution_count": 4,
   "metadata": {},
   "outputs": [],
   "source": [
    "from baard.classifiers import MNIST_CNN\n",
    "from baard.utils.torch_utils import dataloader2tensor, dataset2tensor"
   ]
  },
  {
   "cell_type": "code",
   "execution_count": 5,
   "metadata": {},
   "outputs": [
    {
     "name": "stderr",
     "output_type": "stream",
     "text": [
      "Global seed set to 0\n"
     ]
    },
    {
     "name": "stdout",
     "output_type": "stream",
     "text": [
      "PATH ROOT: /home/lukec/workspace/baard_v4\n",
      "DATASET: MNIST\n",
      "PATH_CHECKPOINT: /home/lukec/workspace/baard_v4/pretrained_clf/mnist_cnn.ckpt\n"
     ]
    }
   ],
   "source": [
    "DATASET = 'MNIST'\n",
    "EPS = 0.22  # Epsilon controls the adversarial perturbation.\n",
    "\n",
    "PATH_ROOT = Path(os.getcwd()).absolute().parent\n",
    "PATH_CHECKPOINT = os.path.join(PATH_ROOT, 'pretrained_clf', 'mnist_cnn.ckpt')\n",
    "PATH_DATA_CLEAN = os.path.join(PATH_ROOT, 'results', 'exp1234', DATASET, 'AdvClean.n_100.pt')\n",
    "PATH_DATA_ADV = os.path.join(PATH_ROOT, 'results', 'exp1234', DATASET, f'APGD.Linf.n_100.e_{EPS}.pt')\n",
    "PATH_DETECTOR_DEV = os.path.join('temp', 'dev_lid_detector.lid')\n",
    "\n",
    "# Parameters for development:\n",
    "TINY_TEST_SIZE = 10\n",
    "SEED_DEV = 0\n",
    "\n",
    "pl.seed_everything(SEED_DEV)\n",
    "\n",
    "print('PATH ROOT:', PATH_ROOT)\n",
    "print('DATASET:', DATASET)\n",
    "print('PATH_CHECKPOINT:', PATH_CHECKPOINT)"
   ]
  },
  {
   "cell_type": "code",
   "execution_count": 6,
   "metadata": {},
   "outputs": [
    {
     "name": "stdout",
     "output_type": "stream",
     "text": [
      "X_train: torch.Size([60000, 1, 28, 28])\n",
      "X_test: torch.Size([10000, 1, 28, 28])\n"
     ]
    }
   ],
   "source": [
    "my_model = MNIST_CNN.load_from_checkpoint(PATH_CHECKPOINT)\n",
    "\n",
    "loader_train = my_model.train_dataloader()\n",
    "loader_test = my_model.val_dataloader()\n",
    "\n",
    "X_train, y_train = dataloader2tensor(loader_train)\n",
    "X_test, y_test =dataloader2tensor(loader_test)\n",
    "\n",
    "print('X_train:', X_train.size())\n",
    "print('X_test:', X_test.size())"
   ]
  },
  {
   "cell_type": "code",
   "execution_count": 7,
   "metadata": {},
   "outputs": [
    {
     "data": {
      "text/plain": [
       "784"
      ]
     },
     "execution_count": 7,
     "metadata": {},
     "output_type": "execute_result"
    }
   ],
   "source": [
    "28 ** 2"
   ]
  },
  {
   "cell_type": "code",
   "execution_count": 8,
   "metadata": {},
   "outputs": [
    {
     "data": {
      "text/plain": [
       "Sequential(\n",
       "  (0): Conv2d(1, 32, kernel_size=(3, 3), stride=(1, 1))\n",
       "  (1): ReLU()\n",
       "  (2): Conv2d(32, 64, kernel_size=(3, 3), stride=(1, 1))\n",
       "  (3): ReLU()\n",
       "  (4): MaxPool2d(kernel_size=2, stride=2, padding=0, dilation=1, ceil_mode=False)\n",
       "  (5): Flatten(start_dim=1, end_dim=-1)\n",
       "  (6): Linear(in_features=9216, out_features=200, bias=True)\n",
       ")"
      ]
     },
     "execution_count": 8,
     "metadata": {},
     "output_type": "execute_result"
    }
   ],
   "source": [
    "latent_net = torch.nn.Sequential(\n",
    "    *list(my_model.children())[:7]\n",
    ")\n",
    "latent_net.eval()"
   ]
  },
  {
   "cell_type": "code",
   "execution_count": 9,
   "metadata": {},
   "outputs": [
    {
     "name": "stdout",
     "output_type": "stream",
     "text": [
      "torch.Size([10, 200])\n"
     ]
    }
   ],
   "source": [
    "latent_features = latent_net(X_train[:TINY_TEST_SIZE])\n",
    "print(latent_features.size())"
   ]
  },
  {
   "cell_type": "code",
   "execution_count": 10,
   "metadata": {},
   "outputs": [
    {
     "name": "stdout",
     "output_type": "stream",
     "text": [
      "['-4.33', '-1.00', '2.11', '2.12', '-1.45', '-1.80', '-0.79', '-1.24', '2.02', '-1.66', '1.03', '-6.19', '-0.84', '-0.30', '1.17', '-2.68', '-0.72', '1.31', '0.02', '2.27', '-1.73', '-0.08', '-0.18', '0.44', '-0.28', '4.03', '-6.75', '-2.79', '6.30', '-0.08', '5.28', '-1.60', '3.15', '-0.11', '-0.33', '-6.50', '-7.51', '3.38', '-2.02', '-0.85', '-2.24', '4.24', '-3.67', '1.85', '1.47', '-2.31', '-0.73', '-4.32', '-2.03', '-0.15', '4.19', '-0.74', '0.24', '1.46', '-1.38', '-0.05', '0.20', '-0.75', '5.61', '-0.99', '4.01', '-4.20', '-6.47', '-11.91', '-6.38', '-0.30', '4.91', '1.00', '-1.41', '-8.04', '-3.03', '-0.25', '3.84', '4.51', '-3.93', '-9.84', '-1.67', '0.74', '0.09', '13.28', '-3.57', '-0.57', '-0.24', '0.27', '-0.39', '0.30', '0.96', '2.92', '-4.57', '-0.46', '-1.38', '-1.20', '-1.17', '3.26', '6.39', '-3.37', '1.01', '-7.35', '-3.42', '-1.77', '-2.76', '5.15', '-1.51', '2.73', '-4.38', '3.32', '-7.45', '12.59', '-0.65', '1.88', '0.75', '-0.61', '-0.18', '-0.09', '0.14', '-3.13', '-0.02', '-0.15', '-13.99', '-2.62', '-2.11', '-0.20', '6.28', '-0.18', '2.18', '0.08', '0.30', '-0.68', '10.00', '-2.70', '-0.32', '9.87', '6.26', '-1.49', '-0.69', '-4.32', '-0.77', '0.93', '-0.01', '-4.36', '0.08', '-0.78', '-0.10', '-10.49', '-2.13', '5.20', '-6.24', '-0.73', '-0.37', '-4.31', '-1.67', '1.45', '-0.59', '0.67', '-5.18', '9.58', '-3.04', '-5.91', '-0.90', '12.46', '-3.71', '-5.80', '-0.06', '0.27', '3.90', '-0.19', '-0.27', '1.86', '-3.15', '-0.91', '1.61', '-0.40', '0.84', '-4.75', '2.30', '0.63', '-0.40', '-0.36', '-2.42', '-0.54', '-7.52', '0.00', '-0.15', '-0.33', '5.04', '0.27', '-4.14', '1.72', '5.17', '8.57', '3.04', '-1.44', '13.78', '-6.03', '0.06', '-8.41', '-2.97', '1.20', '-0.14', '4.88']\n"
     ]
    }
   ],
   "source": [
    "print([f'{i:.2f}' for i in latent_features[0].detach().numpy()])"
   ]
  },
  {
   "cell_type": "code",
   "execution_count": 11,
   "metadata": {},
   "outputs": [],
   "source": [
    "latent_feature_mean = latent_features.mean(0)\n",
    "latent_feature_std = latent_features.std(0)"
   ]
  },
  {
   "cell_type": "code",
   "execution_count": 12,
   "metadata": {},
   "outputs": [
    {
     "data": {
      "text/plain": [
       "2.443573"
      ]
     },
     "execution_count": 12,
     "metadata": {},
     "output_type": "execute_result"
    }
   ],
   "source": [
    "new_instance = latent_features[0]\n",
    "z_score = (new_instance - latent_feature_mean) / latent_feature_std\n",
    "z_score = z_score.detach().numpy()\n",
    "z_max = np.abs(z_score).max()\n",
    "\n",
    "z_max"
   ]
  },
  {
   "cell_type": "code",
   "execution_count": 13,
   "metadata": {},
   "outputs": [
    {
     "data": {
      "text/plain": [
       "tensor([0, 0, 0,  ..., 0, 0, 0], dtype=torch.int16)"
      ]
     },
     "execution_count": 13,
     "metadata": {},
     "output_type": "execute_result"
    }
   ],
   "source": [
    "indices = torch.where(y_train == 0)[0]\n",
    "y_train[indices]"
   ]
  },
  {
   "cell_type": "code",
   "execution_count": null,
   "metadata": {},
   "outputs": [],
   "source": []
  }
 ],
 "metadata": {
  "kernelspec": {
   "display_name": "Python 3.9.15 ('venv': venv)",
   "language": "python",
   "name": "python3"
  },
  "language_info": {
   "codemirror_mode": {
    "name": "ipython",
    "version": 3
   },
   "file_extension": ".py",
   "mimetype": "text/x-python",
   "name": "python",
   "nbconvert_exporter": "python",
   "pygments_lexer": "ipython3",
   "version": "3.9.15"
  },
  "orig_nbformat": 4,
  "vscode": {
   "interpreter": {
    "hash": "ca1e3ec0254efb300f2de71f1d983378da29e4ede80290b822db9c2199a6e419"
   }
  }
 },
 "nbformat": 4,
 "nbformat_minor": 2
}
