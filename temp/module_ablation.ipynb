{
 "cells": [
  {
   "cell_type": "code",
   "execution_count": 1,
   "metadata": {},
   "outputs": [],
   "source": [
    "import os\n",
    "import sys\n",
    "\n",
    "sys.path.append('')"
   ]
  },
  {
   "cell_type": "code",
   "execution_count": 3,
   "metadata": {},
   "outputs": [],
   "source": [
    "%load_ext autoreload\n",
    "%autoreload 2"
   ]
  },
  {
   "cell_type": "code",
   "execution_count": 11,
   "metadata": {},
   "outputs": [],
   "source": [
    "from pathlib import Path\n",
    "\n",
    "import torch\n",
    "import torch.nn as nn\n",
    "from torchinfo import summary\n",
    "\n",
    "from baard.classifiers.mnist_cnn import MNIST_CNN"
   ]
  },
  {
   "cell_type": "code",
   "execution_count": 7,
   "metadata": {},
   "outputs": [
    {
     "name": "stdout",
     "output_type": "stream",
     "text": [
      "/home/lukec/workspace/baard_v4/pretrained_clf/mnist_cnn.ckpt\n"
     ]
    }
   ],
   "source": [
    "PATH_ROOT = Path(os.getcwd()).parent\n",
    "PATH_DATA = os.path.join(PATH_ROOT, 'data')\n",
    "PATH_CHECKPOINT = os.path.join(PATH_ROOT, 'pretrained_clf', 'mnist_cnn.ckpt')\n",
    "print(PATH_CHECKPOINT)"
   ]
  },
  {
   "cell_type": "code",
   "execution_count": 16,
   "metadata": {},
   "outputs": [
    {
     "name": "stdout",
     "output_type": "stream",
     "text": [
      "==========================================================================================\n",
      "Layer (type:depth-idx)                   Output Shape              Param #\n",
      "==========================================================================================\n",
      "MNIST_CNN                                [256, 10]                 --\n",
      "├─Conv2d: 1-1                            [256, 32, 26, 26]         320\n",
      "├─ReLU: 1-2                              [256, 32, 26, 26]         --\n",
      "├─Conv2d: 1-3                            [256, 64, 24, 24]         18,496\n",
      "├─ReLU: 1-4                              [256, 64, 24, 24]         --\n",
      "├─MaxPool2d: 1-5                         [256, 64, 12, 12]         --\n",
      "├─Flatten: 1-6                           [256, 9216]               --\n",
      "├─Linear: 1-7                            [256, 200]                1,843,400\n",
      "├─ReLU: 1-8                              [256, 200]                --\n",
      "├─Linear: 1-9                            [256, 10]                 2,010\n",
      "==========================================================================================\n",
      "Total params: 1,864,226\n",
      "Trainable params: 1,864,226\n",
      "Non-trainable params: 0\n",
      "Total mult-adds (G): 3.26\n",
      "==========================================================================================\n",
      "Input size (MB): 0.80\n",
      "Forward/backward pass size (MB): 120.23\n",
      "Params size (MB): 7.46\n",
      "Estimated Total Size (MB): 128.49\n",
      "==========================================================================================\n"
     ]
    }
   ],
   "source": [
    "model = MNIST_CNN.load_from_checkpoint(PATH_CHECKPOINT)\n",
    "batch_size = model.train_dataloader().batch_size\n",
    "input_size = (batch_size, 1, 28, 28)\n",
    "device = 'cpu'\n",
    "\n",
    "results = summary(model, input_size=input_size, device=device)\n",
    "print(results)"
   ]
  },
  {
   "cell_type": "code",
   "execution_count": 17,
   "metadata": {},
   "outputs": [
    {
     "data": {
      "text/plain": [
       "[Conv2d(1, 32, kernel_size=(3, 3), stride=(1, 1)),\n",
       " ReLU(),\n",
       " Conv2d(32, 64, kernel_size=(3, 3), stride=(1, 1)),\n",
       " ReLU(),\n",
       " MaxPool2d(kernel_size=2, stride=2, padding=0, dilation=1, ceil_mode=False),\n",
       " Flatten(start_dim=1, end_dim=-1),\n",
       " Linear(in_features=9216, out_features=200, bias=True),\n",
       " ReLU(),\n",
       " Linear(in_features=200, out_features=10, bias=True)]"
      ]
     },
     "execution_count": 17,
     "metadata": {},
     "output_type": "execute_result"
    }
   ],
   "source": [
    "list(model.children())"
   ]
  },
  {
   "cell_type": "code",
   "execution_count": 15,
   "metadata": {},
   "outputs": [
    {
     "name": "stdout",
     "output_type": "stream",
     "text": [
      "9\n"
     ]
    }
   ],
   "source": [
    "print(len(list(model.children())))"
   ]
  },
  {
   "cell_type": "code",
   "execution_count": 20,
   "metadata": {},
   "outputs": [
    {
     "data": {
      "text/plain": [
       "==========================================================================================\n",
       "Layer (type:depth-idx)                   Output Shape              Param #\n",
       "==========================================================================================\n",
       "Sequential                               [256, 64, 24, 24]         --\n",
       "├─Conv2d: 1-1                            [256, 32, 26, 26]         320\n",
       "├─ReLU: 1-2                              [256, 32, 26, 26]         --\n",
       "├─Conv2d: 1-3                            [256, 64, 24, 24]         18,496\n",
       "==========================================================================================\n",
       "Total params: 18,816\n",
       "Trainable params: 18,816\n",
       "Non-trainable params: 0\n",
       "Total mult-adds (G): 2.78\n",
       "==========================================================================================\n",
       "Input size (MB): 0.80\n",
       "Forward/backward pass size (MB): 119.80\n",
       "Params size (MB): 0.08\n",
       "Estimated Total Size (MB): 120.68\n",
       "=========================================================================================="
      ]
     },
     "execution_count": 20,
     "metadata": {},
     "output_type": "execute_result"
    }
   ],
   "source": [
    "latent_net1 = nn.Sequential(*list(model.children())[:3])\n",
    "\n",
    "summary(latent_net1, input_size=input_size, device=device)"
   ]
  },
  {
   "cell_type": "code",
   "execution_count": 23,
   "metadata": {},
   "outputs": [
    {
     "data": {
      "text/plain": [
       "==========================================================================================\n",
       "Layer (type:depth-idx)                   Output Shape              Param #\n",
       "==========================================================================================\n",
       "Sequential                               [256, 9216]               --\n",
       "├─Conv2d: 1-1                            [256, 32, 26, 26]         320\n",
       "├─ReLU: 1-2                              [256, 32, 26, 26]         --\n",
       "├─Conv2d: 1-3                            [256, 64, 24, 24]         18,496\n",
       "├─ReLU: 1-4                              [256, 64, 24, 24]         --\n",
       "├─MaxPool2d: 1-5                         [256, 64, 12, 12]         --\n",
       "├─Flatten: 1-6                           [256, 9216]               --\n",
       "==========================================================================================\n",
       "Total params: 18,816\n",
       "Trainable params: 18,816\n",
       "Non-trainable params: 0\n",
       "Total mult-adds (G): 2.78\n",
       "==========================================================================================\n",
       "Input size (MB): 0.80\n",
       "Forward/backward pass size (MB): 119.80\n",
       "Params size (MB): 0.08\n",
       "Estimated Total Size (MB): 120.68\n",
       "=========================================================================================="
      ]
     },
     "execution_count": 23,
     "metadata": {},
     "output_type": "execute_result"
    }
   ],
   "source": [
    "latent_net2 = nn.Sequential(*list(model.children())[:6])\n",
    "\n",
    "summary(latent_net2, input_size=input_size, device=device)"
   ]
  },
  {
   "cell_type": "code",
   "execution_count": 24,
   "metadata": {},
   "outputs": [
    {
     "data": {
      "text/plain": [
       "==========================================================================================\n",
       "Layer (type:depth-idx)                   Output Shape              Param #\n",
       "==========================================================================================\n",
       "Sequential                               [256, 200]                --\n",
       "├─Conv2d: 1-1                            [256, 32, 26, 26]         320\n",
       "├─ReLU: 1-2                              [256, 32, 26, 26]         --\n",
       "├─Conv2d: 1-3                            [256, 64, 24, 24]         18,496\n",
       "├─ReLU: 1-4                              [256, 64, 24, 24]         --\n",
       "├─MaxPool2d: 1-5                         [256, 64, 12, 12]         --\n",
       "├─Flatten: 1-6                           [256, 9216]               --\n",
       "├─Linear: 1-7                            [256, 200]                1,843,400\n",
       "==========================================================================================\n",
       "Total params: 1,862,216\n",
       "Trainable params: 1,862,216\n",
       "Non-trainable params: 0\n",
       "Total mult-adds (G): 3.25\n",
       "==========================================================================================\n",
       "Input size (MB): 0.80\n",
       "Forward/backward pass size (MB): 120.21\n",
       "Params size (MB): 7.45\n",
       "Estimated Total Size (MB): 128.46\n",
       "=========================================================================================="
      ]
     },
     "execution_count": 24,
     "metadata": {},
     "output_type": "execute_result"
    }
   ],
   "source": [
    "latent_net3 = nn.Sequential(*list(model.children())[:7])\n",
    "\n",
    "summary(latent_net3, input_size=input_size, device=device)"
   ]
  },
  {
   "cell_type": "code",
   "execution_count": null,
   "metadata": {},
   "outputs": [],
   "source": []
  }
 ],
 "metadata": {
  "kernelspec": {
   "display_name": "Python 3.9.15 ('venv': venv)",
   "language": "python",
   "name": "python3"
  },
  "language_info": {
   "codemirror_mode": {
    "name": "ipython",
    "version": 3
   },
   "file_extension": ".py",
   "mimetype": "text/x-python",
   "name": "python",
   "nbconvert_exporter": "python",
   "pygments_lexer": "ipython3",
   "version": "3.9.15"
  },
  "orig_nbformat": 4,
  "vscode": {
   "interpreter": {
    "hash": "ca1e3ec0254efb300f2de71f1d983378da29e4ede80290b822db9c2199a6e419"
   }
  }
 },
 "nbformat": 4,
 "nbformat_minor": 2
}
