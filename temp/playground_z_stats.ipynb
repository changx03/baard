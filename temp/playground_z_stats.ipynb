{
 "cells": [
  {
   "cell_type": "code",
   "execution_count": 1,
   "metadata": {},
   "outputs": [],
   "source": [
    "import numpy as np\n",
    "from scipy.stats import norm"
   ]
  },
  {
   "cell_type": "code",
   "execution_count": 2,
   "metadata": {},
   "outputs": [
    {
     "name": "stdout",
     "output_type": "stream",
     "text": [
      "1.959963984540054\n",
      "0.05\n"
     ]
    }
   ],
   "source": [
    "# alpha to critical\n",
    "alpha = 0.05\n",
    "n_sided = 2 # 2-sided test\n",
    "z_crit = norm.ppf(1-alpha/n_sided)\n",
    "print(z_crit) # 1.959963984540054\n",
    "\n",
    "# critical to alpha\n",
    "alpha = norm.sf(z_crit) * n_sided\n",
    "print(alpha) # 0.05"
   ]
  },
  {
   "cell_type": "code",
   "execution_count": 3,
   "metadata": {},
   "outputs": [
    {
     "name": "stdout",
     "output_type": "stream",
     "text": [
      "False\n"
     ]
    }
   ],
   "source": [
    "# Example\n",
    "# A benign example with maximam z-socre = 0.547\n",
    "z_max = 0.547\n",
    "\n",
    "# Set FPR to 0.05\n",
    "alpha = 0.05  # FPR\n",
    "n_sided = 2  # 2-sided test\n",
    "z_crit = norm.ppf(1-alpha/n_sided)\n",
    "\n",
    "is_hit = z_max > z_crit\n",
    "print(is_hit)"
   ]
  }
 ],
 "metadata": {
  "kernelspec": {
   "display_name": "Python 3.9.15 ('venv': venv)",
   "language": "python",
   "name": "python3"
  },
  "language_info": {
   "codemirror_mode": {
    "name": "ipython",
    "version": 3
   },
   "file_extension": ".py",
   "mimetype": "text/x-python",
   "name": "python",
   "nbconvert_exporter": "python",
   "pygments_lexer": "ipython3",
   "version": "3.9.15"
  },
  "orig_nbformat": 4,
  "vscode": {
   "interpreter": {
    "hash": "ca1e3ec0254efb300f2de71f1d983378da29e4ede80290b822db9c2199a6e419"
   }
  }
 },
 "nbformat": 4,
 "nbformat_minor": 2
}
