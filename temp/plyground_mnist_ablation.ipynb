{
 "cells": [
  {
   "cell_type": "code",
   "execution_count": 1,
   "metadata": {},
   "outputs": [],
   "source": [
    "import os\n",
    "import sys\n",
    "\n",
    "sys.path.append('')"
   ]
  },
  {
   "cell_type": "code",
   "execution_count": 2,
   "metadata": {},
   "outputs": [],
   "source": [
    "%load_ext autoreload\n",
    "%autoreload 2"
   ]
  },
  {
   "cell_type": "code",
   "execution_count": 3,
   "metadata": {},
   "outputs": [],
   "source": [
    "from pathlib import Path\n",
    "\n",
    "import torch\n",
    "import torch.nn as nn\n",
    "from torchinfo import summary\n",
    "\n",
    "from baard.classifiers.mnist_cnn import MNIST_CNN"
   ]
  },
  {
   "cell_type": "code",
   "execution_count": 4,
   "metadata": {},
   "outputs": [
    {
     "name": "stdout",
     "output_type": "stream",
     "text": [
      "/home/lukec/workspace/baard_v4/pretrained_clf/mnist_cnn.ckpt\n"
     ]
    }
   ],
   "source": [
    "PATH_ROOT = Path(os.getcwd()).parent\n",
    "PATH_DATA = os.path.join(PATH_ROOT, 'data')\n",
    "PATH_CHECKPOINT = os.path.join(PATH_ROOT, 'pretrained_clf', 'mnist_cnn.ckpt')\n",
    "print(PATH_CHECKPOINT)"
   ]
  },
  {
   "cell_type": "code",
   "execution_count": 5,
   "metadata": {},
   "outputs": [
    {
     "name": "stdout",
     "output_type": "stream",
     "text": [
      "==========================================================================================\n",
      "Layer (type:depth-idx)                   Output Shape              Param #\n",
      "==========================================================================================\n",
      "MNIST_CNN                                [256, 10]                 --\n",
      "├─Conv2d: 1-1                            [256, 32, 26, 26]         320\n",
      "├─ReLU: 1-2                              [256, 32, 26, 26]         --\n",
      "├─Conv2d: 1-3                            [256, 64, 24, 24]         18,496\n",
      "├─ReLU: 1-4                              [256, 64, 24, 24]         --\n",
      "├─MaxPool2d: 1-5                         [256, 64, 12, 12]         --\n",
      "├─Flatten: 1-6                           [256, 9216]               --\n",
      "├─Linear: 1-7                            [256, 200]                1,843,400\n",
      "├─ReLU: 1-8                              [256, 200]                --\n",
      "├─Linear: 1-9                            [256, 10]                 2,010\n",
      "==========================================================================================\n",
      "Total params: 1,864,226\n",
      "Trainable params: 1,864,226\n",
      "Non-trainable params: 0\n",
      "Total mult-adds (G): 3.26\n",
      "==========================================================================================\n",
      "Input size (MB): 0.80\n",
      "Forward/backward pass size (MB): 120.23\n",
      "Params size (MB): 7.46\n",
      "Estimated Total Size (MB): 128.49\n",
      "==========================================================================================\n"
     ]
    }
   ],
   "source": [
    "model = MNIST_CNN.load_from_checkpoint(PATH_CHECKPOINT)\n",
    "batch_size = model.train_dataloader().batch_size\n",
    "input_size = (batch_size, 1, 28, 28)\n",
    "device = 'cpu'\n",
    "\n",
    "results = summary(model, input_size=input_size, device=device)\n",
    "print(results)"
   ]
  },
  {
   "cell_type": "code",
   "execution_count": 6,
   "metadata": {},
   "outputs": [
    {
     "data": {
      "text/plain": [
       "[Conv2d(1, 32, kernel_size=(3, 3), stride=(1, 1)),\n",
       " ReLU(),\n",
       " Conv2d(32, 64, kernel_size=(3, 3), stride=(1, 1)),\n",
       " ReLU(),\n",
       " MaxPool2d(kernel_size=2, stride=2, padding=0, dilation=1, ceil_mode=False),\n",
       " Flatten(start_dim=1, end_dim=-1),\n",
       " Linear(in_features=9216, out_features=200, bias=True),\n",
       " ReLU(),\n",
       " Linear(in_features=200, out_features=10, bias=True)]"
      ]
     },
     "execution_count": 6,
     "metadata": {},
     "output_type": "execute_result"
    }
   ],
   "source": [
    "list(model.children())"
   ]
  },
  {
   "cell_type": "code",
   "execution_count": 7,
   "metadata": {},
   "outputs": [
    {
     "name": "stdout",
     "output_type": "stream",
     "text": [
      "9\n"
     ]
    }
   ],
   "source": [
    "print(len(list(model.children())))"
   ]
  },
  {
   "cell_type": "code",
   "execution_count": 8,
   "metadata": {},
   "outputs": [
    {
     "data": {
      "text/plain": [
       "==========================================================================================\n",
       "Layer (type:depth-idx)                   Output Shape              Param #\n",
       "==========================================================================================\n",
       "Sequential                               [256, 64, 24, 24]         --\n",
       "├─Conv2d: 1-1                            [256, 32, 26, 26]         320\n",
       "├─ReLU: 1-2                              [256, 32, 26, 26]         --\n",
       "├─Conv2d: 1-3                            [256, 64, 24, 24]         18,496\n",
       "==========================================================================================\n",
       "Total params: 18,816\n",
       "Trainable params: 18,816\n",
       "Non-trainable params: 0\n",
       "Total mult-adds (G): 2.78\n",
       "==========================================================================================\n",
       "Input size (MB): 0.80\n",
       "Forward/backward pass size (MB): 119.80\n",
       "Params size (MB): 0.08\n",
       "Estimated Total Size (MB): 120.68\n",
       "=========================================================================================="
      ]
     },
     "execution_count": 8,
     "metadata": {},
     "output_type": "execute_result"
    }
   ],
   "source": [
    "latent_net1 = nn.Sequential(*list(model.children())[:3])\n",
    "\n",
    "summary(latent_net1, input_size=input_size, device=device)"
   ]
  },
  {
   "cell_type": "code",
   "execution_count": 9,
   "metadata": {},
   "outputs": [
    {
     "data": {
      "text/plain": [
       "==========================================================================================\n",
       "Layer (type:depth-idx)                   Output Shape              Param #\n",
       "==========================================================================================\n",
       "Sequential                               [256, 9216]               --\n",
       "├─Conv2d: 1-1                            [256, 32, 26, 26]         320\n",
       "├─ReLU: 1-2                              [256, 32, 26, 26]         --\n",
       "├─Conv2d: 1-3                            [256, 64, 24, 24]         18,496\n",
       "├─ReLU: 1-4                              [256, 64, 24, 24]         --\n",
       "├─MaxPool2d: 1-5                         [256, 64, 12, 12]         --\n",
       "├─Flatten: 1-6                           [256, 9216]               --\n",
       "==========================================================================================\n",
       "Total params: 18,816\n",
       "Trainable params: 18,816\n",
       "Non-trainable params: 0\n",
       "Total mult-adds (G): 2.78\n",
       "==========================================================================================\n",
       "Input size (MB): 0.80\n",
       "Forward/backward pass size (MB): 119.80\n",
       "Params size (MB): 0.08\n",
       "Estimated Total Size (MB): 120.68\n",
       "=========================================================================================="
      ]
     },
     "execution_count": 9,
     "metadata": {},
     "output_type": "execute_result"
    }
   ],
   "source": [
    "latent_net2 = nn.Sequential(*list(model.children())[:6])\n",
    "\n",
    "summary(latent_net2, input_size=input_size, device=device)"
   ]
  },
  {
   "cell_type": "code",
   "execution_count": 10,
   "metadata": {},
   "outputs": [
    {
     "data": {
      "text/plain": [
       "==========================================================================================\n",
       "Layer (type:depth-idx)                   Output Shape              Param #\n",
       "==========================================================================================\n",
       "Sequential                               [256, 200]                --\n",
       "├─Conv2d: 1-1                            [256, 32, 26, 26]         320\n",
       "├─ReLU: 1-2                              [256, 32, 26, 26]         --\n",
       "├─Conv2d: 1-3                            [256, 64, 24, 24]         18,496\n",
       "├─ReLU: 1-4                              [256, 64, 24, 24]         --\n",
       "├─MaxPool2d: 1-5                         [256, 64, 12, 12]         --\n",
       "├─Flatten: 1-6                           [256, 9216]               --\n",
       "├─Linear: 1-7                            [256, 200]                1,843,400\n",
       "==========================================================================================\n",
       "Total params: 1,862,216\n",
       "Trainable params: 1,862,216\n",
       "Non-trainable params: 0\n",
       "Total mult-adds (G): 3.25\n",
       "==========================================================================================\n",
       "Input size (MB): 0.80\n",
       "Forward/backward pass size (MB): 120.21\n",
       "Params size (MB): 7.45\n",
       "Estimated Total Size (MB): 128.46\n",
       "=========================================================================================="
      ]
     },
     "execution_count": 10,
     "metadata": {},
     "output_type": "execute_result"
    }
   ],
   "source": [
    "latent_net3 = nn.Sequential(*list(model.children())[:7])\n",
    "\n",
    "summary(latent_net3, input_size=input_size, device=device)"
   ]
  },
  {
   "cell_type": "code",
   "execution_count": 11,
   "metadata": {},
   "outputs": [
    {
     "name": "stdout",
     "output_type": "stream",
     "text": [
      "torch.Size([10, 27])\n",
      "torch.Size([10, 9])\n"
     ]
    }
   ],
   "source": [
    "import torch\n",
    "\n",
    "a = torch.rand(10, 3, 3, 3)\n",
    "a = a.flatten(start_dim=1)\n",
    "print(a.size())\n",
    "\n",
    "b = torch.rand(10, 9)\n",
    "b = b.flatten(start_dim=1)\n",
    "print(b.size())"
   ]
  },
  {
   "cell_type": "code",
   "execution_count": 12,
   "metadata": {},
   "outputs": [
    {
     "data": {
      "text/plain": [
       "torch.Size([10, 36])"
      ]
     },
     "execution_count": 12,
     "metadata": {},
     "output_type": "execute_result"
    }
   ],
   "source": [
    "torch.hstack([a, b]).size()"
   ]
  },
  {
   "cell_type": "code",
   "execution_count": 13,
   "metadata": {},
   "outputs": [],
   "source": [
    "import numpy as np\n",
    "from torch import Tensor"
   ]
  },
  {
   "cell_type": "code",
   "execution_count": 14,
   "metadata": {},
   "outputs": [],
   "source": [
    "def create_loo_input(x: Tensor) -> Tensor:\n",
    "    \"\"\"Create a LOO mapping for 1 example. Output is in shape of (n_features + 1, n_features).\n",
    "    It includes masking 1 input with 0 for every feature + the original input.\n",
    "    NOTE: Input is expected to be a single example, not a list.\n",
    "    \"\"\"\n",
    "    # Get the actual number of input features\n",
    "    n_features = int(torch.Tensor(list(x.size())).prod().item())\n",
    "    # The output should be (n_features + 1, <ORIGINAL_SAMPLE_SHAPE>)\n",
    "    shape_repeat = [n_features + 1] + [1 for _ in range(len(x.size()))]\n",
    "    # Add additional dimension\n",
    "    X_repeated = x.unsqueeze(0).repeat(shape_repeat)\n",
    "\n",
    "    # Create a mask with 0 for each pixel. Keep the last example original.\n",
    "    X_loo_mask = torch.ones_like(X_repeated)\n",
    "    loo_shape = X_loo_mask.size()\n",
    "    X_loo_mask = X_loo_mask.reshape(len(X_loo_mask),-1)\n",
    "    for i in range(X_loo_mask.size(-1)):\n",
    "        X_loo_mask[i, i] = 0\n",
    "    X_loo_mask = X_loo_mask.reshape(loo_shape)\n",
    "\n",
    "    X_loo = X_loo_mask * X_repeated\n",
    "    return X_loo"
   ]
  },
  {
   "cell_type": "code",
   "execution_count": 15,
   "metadata": {},
   "outputs": [
    {
     "name": "stdout",
     "output_type": "stream",
     "text": [
      "tensor([[[[0.0000, 0.9996, 0.9704,  ..., 0.8242, 0.4138, 0.6291],\n",
      "          [0.2083, 0.3695, 0.1850,  ..., 0.4992, 0.2961, 0.0463],\n",
      "          [0.0150, 0.0673, 0.5763,  ..., 0.2165, 0.6689, 0.3881],\n",
      "          ...,\n",
      "          [0.9172, 0.7462, 0.4110,  ..., 0.8639, 0.9305, 0.2461],\n",
      "          [0.6870, 0.1068, 0.6394,  ..., 0.2540, 0.0146, 0.7522],\n",
      "          [0.2638, 0.3727, 0.9201,  ..., 0.5644, 0.4115, 0.0024]]],\n",
      "\n",
      "\n",
      "        [[[0.0515, 0.0000, 0.9704,  ..., 0.8242, 0.4138, 0.6291],\n",
      "          [0.2083, 0.3695, 0.1850,  ..., 0.4992, 0.2961, 0.0463],\n",
      "          [0.0150, 0.0673, 0.5763,  ..., 0.2165, 0.6689, 0.3881],\n",
      "          ...,\n",
      "          [0.9172, 0.7462, 0.4110,  ..., 0.8639, 0.9305, 0.2461],\n",
      "          [0.6870, 0.1068, 0.6394,  ..., 0.2540, 0.0146, 0.7522],\n",
      "          [0.2638, 0.3727, 0.9201,  ..., 0.5644, 0.4115, 0.0024]]],\n",
      "\n",
      "\n",
      "        [[[0.0515, 0.9996, 0.0000,  ..., 0.8242, 0.4138, 0.6291],\n",
      "          [0.2083, 0.3695, 0.1850,  ..., 0.4992, 0.2961, 0.0463],\n",
      "          [0.0150, 0.0673, 0.5763,  ..., 0.2165, 0.6689, 0.3881],\n",
      "          ...,\n",
      "          [0.9172, 0.7462, 0.4110,  ..., 0.8639, 0.9305, 0.2461],\n",
      "          [0.6870, 0.1068, 0.6394,  ..., 0.2540, 0.0146, 0.7522],\n",
      "          [0.2638, 0.3727, 0.9201,  ..., 0.5644, 0.4115, 0.0024]]],\n",
      "\n",
      "\n",
      "        ...,\n",
      "\n",
      "\n",
      "        [[[0.0515, 0.9996, 0.9704,  ..., 0.8242, 0.4138, 0.6291],\n",
      "          [0.2083, 0.3695, 0.1850,  ..., 0.4992, 0.2961, 0.0463],\n",
      "          [0.0150, 0.0673, 0.5763,  ..., 0.2165, 0.6689, 0.3881],\n",
      "          ...,\n",
      "          [0.9172, 0.7462, 0.4110,  ..., 0.8639, 0.9305, 0.2461],\n",
      "          [0.6870, 0.1068, 0.6394,  ..., 0.2540, 0.0146, 0.7522],\n",
      "          [0.2638, 0.3727, 0.9201,  ..., 0.5644, 0.0000, 0.0024]]],\n",
      "\n",
      "\n",
      "        [[[0.0515, 0.9996, 0.9704,  ..., 0.8242, 0.4138, 0.6291],\n",
      "          [0.2083, 0.3695, 0.1850,  ..., 0.4992, 0.2961, 0.0463],\n",
      "          [0.0150, 0.0673, 0.5763,  ..., 0.2165, 0.6689, 0.3881],\n",
      "          ...,\n",
      "          [0.9172, 0.7462, 0.4110,  ..., 0.8639, 0.9305, 0.2461],\n",
      "          [0.6870, 0.1068, 0.6394,  ..., 0.2540, 0.0146, 0.7522],\n",
      "          [0.2638, 0.3727, 0.9201,  ..., 0.5644, 0.4115, 0.0000]]],\n",
      "\n",
      "\n",
      "        [[[0.0515, 0.9996, 0.9704,  ..., 0.8242, 0.4138, 0.6291],\n",
      "          [0.2083, 0.3695, 0.1850,  ..., 0.4992, 0.2961, 0.0463],\n",
      "          [0.0150, 0.0673, 0.5763,  ..., 0.2165, 0.6689, 0.3881],\n",
      "          ...,\n",
      "          [0.9172, 0.7462, 0.4110,  ..., 0.8639, 0.9305, 0.2461],\n",
      "          [0.6870, 0.1068, 0.6394,  ..., 0.2540, 0.0146, 0.7522],\n",
      "          [0.2638, 0.3727, 0.9201,  ..., 0.5644, 0.4115, 0.0024]]]])\n"
     ]
    }
   ],
   "source": [
    "# x = torch.Tensor([[1, 2], [3, 4]])\n",
    "x = torch.rand(1, 28, 28)\n",
    "\n",
    "X_loo = create_loo_input(x)\n",
    "\n",
    "print(X_loo)"
   ]
  },
  {
   "cell_type": "code",
   "execution_count": 16,
   "metadata": {},
   "outputs": [
    {
     "data": {
      "text/plain": [
       "torch.Size([785, 1, 28, 28])"
      ]
     },
     "execution_count": 16,
     "metadata": {},
     "output_type": "execute_result"
    }
   ],
   "source": [
    "X_loo.size()"
   ]
  },
  {
   "cell_type": "code",
   "execution_count": 17,
   "metadata": {},
   "outputs": [
    {
     "data": {
      "text/plain": [
       "784"
      ]
     },
     "execution_count": 17,
     "metadata": {},
     "output_type": "execute_result"
    }
   ],
   "source": [
    "np.prod([1, 28, 28])"
   ]
  },
  {
   "cell_type": "code",
   "execution_count": 18,
   "metadata": {},
   "outputs": [
    {
     "data": {
      "text/plain": [
       "{'test': {}, 'train': {}}"
      ]
     },
     "execution_count": 18,
     "metadata": {},
     "output_type": "execute_result"
    }
   ],
   "source": [
    "combined_features = {data_type: {} for data_type in ['test', 'train']}\n",
    "combined_features"
   ]
  },
  {
   "cell_type": "code",
   "execution_count": 19,
   "metadata": {},
   "outputs": [
    {
     "data": {
      "text/plain": [
       "array([[0.45, 0.4 , 0.45]])"
      ]
     },
     "execution_count": 19,
     "metadata": {},
     "output_type": "execute_result"
    }
   ],
   "source": [
    "X = np.array([[[0.8, 0.2, 0.4, 0.4],\n",
    "               [0.1, 0.3, 0.9, 0.3],\n",
    "               [0.5, 0.7, 0.5, 0.1]]])\n",
    "X.mean(2)"
   ]
  },
  {
   "cell_type": "code",
   "execution_count": 20,
   "metadata": {},
   "outputs": [
    {
     "data": {
      "text/plain": [
       "array([0.15519392, 0.8536353 , 0.2804323 , 0.8536353 , 0.2804323 ,\n",
       "       0.8536353 , 0.2804323 , 0.44665493, 0.82046119, 0.68027395])"
      ]
     },
     "execution_count": 20,
     "metadata": {},
     "output_type": "execute_result"
    }
   ],
   "source": [
    "probs = np.array([\n",
    "    [0.84480608, 0.15519392],\n",
    "    [0.1463647, 0.8536353],\n",
    "    [0.7195677, 0.2804323],\n",
    "    [0.1463647, 0.8536353],\n",
    "    [0.7195677, 0.2804323],\n",
    "    [0.1463647, 0.8536353],\n",
    "    [0.7195677, 0.2804323],\n",
    "    [0.55334507, 0.44665493],\n",
    "    [0.17953881, 0.82046119],\n",
    "    [0.31972605, 0.68027395],\n",
    "])\n",
    "probs[:, 1]"
   ]
  },
  {
   "cell_type": "code",
   "execution_count": null,
   "metadata": {},
   "outputs": [],
   "source": []
  }
 ],
 "metadata": {
  "kernelspec": {
   "display_name": "Python 3.9.15 ('.venv': venv)",
   "language": "python",
   "name": "python3"
  },
  "language_info": {
   "codemirror_mode": {
    "name": "ipython",
    "version": 3
   },
   "file_extension": ".py",
   "mimetype": "text/x-python",
   "name": "python",
   "nbconvert_exporter": "python",
   "pygments_lexer": "ipython3",
   "version": "3.9.15"
  },
  "orig_nbformat": 4,
  "vscode": {
   "interpreter": {
    "hash": "4ee34b62edb80364ed23f6848b190186cfc7ce016bdec4c74edd21689226233e"
   }
  }
 },
 "nbformat": 4,
 "nbformat_minor": 2
}
