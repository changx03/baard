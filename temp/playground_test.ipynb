{
 "cells": [
  {
   "cell_type": "code",
   "execution_count": 1,
   "id": "888a38b7-609d-4b7e-aae4-e34d0d819cde",
   "metadata": {},
   "outputs": [],
   "source": [
    "import numpy as np"
   ]
  },
  {
   "cell_type": "code",
   "execution_count": 2,
   "id": "771dbec5-495d-490b-b71d-c1b84658f6ef",
   "metadata": {},
   "outputs": [
    {
     "name": "stdout",
     "output_type": "stream",
     "text": [
      "values:\n",
      "0.03,0.09,0.16,0.22,0.28,0.34,0.41,0.47,0.53,0.59,0.66,0.72,0.78,0.84,0.91,0.97,1.03,1.09,1.16,1.22,1.28,1.34,1.41,1.47,1.53,1.59,1.66,1.72,1.78,1.84,1.91,1.97\n"
     ]
    }
   ],
   "source": [
    "# For L-inf\n",
    "pixels = np.arange(8, 256*2+1, 16)\n",
    "values = pixels / 256\n",
    "\n",
    "print('values:')\n",
    "print(*np.round(values, 2), sep=',')"
   ]
  },
  {
   "cell_type": "code",
   "execution_count": 3,
   "id": "7d1306cb-0c55-4682-b0a1-c158100119c7",
   "metadata": {},
   "outputs": [
    {
     "name": "stdout",
     "output_type": "stream",
     "text": [
      "values:\n",
      "0.5,1,2,3,4,5,6,7,8,9,10\n"
     ]
    }
   ],
   "source": [
    "# For L2\n",
    "values = np.arange(1, 11, 1)\n",
    "values = [0.5] + list(values)\n",
    "\n",
    "print('values:')\n",
    "print(*values, sep=',')"
   ]
  },
  {
   "cell_type": "code",
   "execution_count": 4,
   "id": "d460c1d7-3c1d-4f4e-8987-2e423bc3e723",
   "metadata": {},
   "outputs": [
    {
     "name": "stdout",
     "output_type": "stream",
     "text": [
      "values:\n",
      "0.01,0.02,0.03,0.05,0.06,0.08,0.09,0.11,0.12,0.14,0.16,0.17,0.19,0.2,0.22,0.23,0.25,0.27,0.28,0.3,0.31,0.33,0.34,0.36,0.38,0.39,0.41,0.42,0.44,0.45,0.47,0.48\n"
     ]
    }
   ],
   "source": [
    "# For CIFAR10\n",
    "# For L-inf\n",
    "pixels = np.arange(4, 128, 4)\n",
    "values = [0.01] + list(pixels / 256)\n",
    "\n",
    "print('values:')\n",
    "print(*np.round(values, 2), sep=',')"
   ]
  },
  {
   "cell_type": "code",
   "execution_count": 5,
   "id": "35e6fa2c",
   "metadata": {},
   "outputs": [
    {
     "name": "stdout",
     "output_type": "stream",
     "text": [
      "values:\n",
      "0.1,0.3,0.6,0.9,1.2,1.5,1.8,2.1,2.4,2.7,3.0,3.3,3.6,3.9,4.2\n"
     ]
    }
   ],
   "source": [
    "# For L2\n",
    "values = np.arange(0.3, 4.2, 0.3)\n",
    "values = [0.1] + list(values)\n",
    "print('values:')\n",
    "print(*np.round(values, 2), sep=',')"
   ]
  },
  {
   "cell_type": "code",
   "execution_count": 6,
   "id": "998e0d1a",
   "metadata": {},
   "outputs": [],
   "source": [
    "# Get valid noise epsilon\n",
    "noises = 'n0.003,s0.003,u0.003,n0.005,s0.005,u0.005,s0.008,n0.008,u0.008'.split(',')\n",
    "noise_eps_detect = []\n",
    "for n in noises:\n",
    "    new_noise = n[0] + str(float(n[1:]) * 255)\n",
    "    noise_eps_detect.append(new_noise)"
   ]
  },
  {
   "cell_type": "code",
   "execution_count": 7,
   "id": "4d0b2ffc",
   "metadata": {},
   "outputs": [
    {
     "data": {
      "text/plain": [
       "['n0.765',\n",
       " 's0.765',\n",
       " 'u0.765',\n",
       " 'n1.2750000000000001',\n",
       " 's1.2750000000000001',\n",
       " 'u1.2750000000000001',\n",
       " 's2.04',\n",
       " 'n2.04',\n",
       " 'u2.04']"
      ]
     },
     "execution_count": 7,
     "metadata": {},
     "output_type": "execute_result"
    }
   ],
   "source": [
    "noise_eps_detect"
   ]
  },
  {
   "cell_type": "code",
   "execution_count": 8,
   "id": "ec127e23",
   "metadata": {},
   "outputs": [
    {
     "data": {
      "text/plain": [
       "array([0, 1, 2, 3, 4])"
      ]
     },
     "execution_count": 8,
     "metadata": {},
     "output_type": "execute_result"
    }
   ],
   "source": [
    "import numpy as np\n",
    "from sklearn.model_selection import train_test_split\n",
    "\n",
    "X = np.arange(0, 10, 1)\n",
    "y = np.concatenate([np.zeros(5), np.ones(5)])\n",
    "X_train, _, y_train, _ = train_test_split(X, y, train_size=0.5, shuffle=False)\n",
    "X_train"
   ]
  },
  {
   "cell_type": "code",
   "execution_count": 1,
   "id": "dc51c6ec",
   "metadata": {},
   "outputs": [],
   "source": [
    "import numpy as np\n",
    "import pandas as pd\n",
    "\n",
    "df_list = []\n",
    "for i in range(5):\n",
    "    _df = pd.DataFrame({\n",
    "        'col1': np.random.randn(100),\n",
    "        'col2': np.random.randint(0, 10, 100),\n",
    "    })\n",
    "    df_list.append(_df)"
   ]
  },
  {
   "cell_type": "code",
   "execution_count": 4,
   "id": "93c43662",
   "metadata": {},
   "outputs": [
    {
     "data": {
      "text/html": [
       "<div>\n",
       "<style scoped>\n",
       "    .dataframe tbody tr th:only-of-type {\n",
       "        vertical-align: middle;\n",
       "    }\n",
       "\n",
       "    .dataframe tbody tr th {\n",
       "        vertical-align: top;\n",
       "    }\n",
       "\n",
       "    .dataframe thead th {\n",
       "        text-align: right;\n",
       "    }\n",
       "</style>\n",
       "<table border=\"1\" class=\"dataframe\">\n",
       "  <thead>\n",
       "    <tr style=\"text-align: right;\">\n",
       "      <th></th>\n",
       "      <th>col1</th>\n",
       "      <th>col2</th>\n",
       "    </tr>\n",
       "  </thead>\n",
       "  <tbody>\n",
       "    <tr>\n",
       "      <th>0</th>\n",
       "      <td>0.375693</td>\n",
       "      <td>5.8</td>\n",
       "    </tr>\n",
       "    <tr>\n",
       "      <th>1</th>\n",
       "      <td>-0.200715</td>\n",
       "      <td>4.4</td>\n",
       "    </tr>\n",
       "    <tr>\n",
       "      <th>2</th>\n",
       "      <td>0.443893</td>\n",
       "      <td>5.2</td>\n",
       "    </tr>\n",
       "    <tr>\n",
       "      <th>3</th>\n",
       "      <td>-0.665084</td>\n",
       "      <td>4.6</td>\n",
       "    </tr>\n",
       "    <tr>\n",
       "      <th>4</th>\n",
       "      <td>-0.739173</td>\n",
       "      <td>4.0</td>\n",
       "    </tr>\n",
       "    <tr>\n",
       "      <th>...</th>\n",
       "      <td>...</td>\n",
       "      <td>...</td>\n",
       "    </tr>\n",
       "    <tr>\n",
       "      <th>95</th>\n",
       "      <td>-0.452463</td>\n",
       "      <td>6.6</td>\n",
       "    </tr>\n",
       "    <tr>\n",
       "      <th>96</th>\n",
       "      <td>0.366418</td>\n",
       "      <td>4.6</td>\n",
       "    </tr>\n",
       "    <tr>\n",
       "      <th>97</th>\n",
       "      <td>-0.887573</td>\n",
       "      <td>8.2</td>\n",
       "    </tr>\n",
       "    <tr>\n",
       "      <th>98</th>\n",
       "      <td>-0.347541</td>\n",
       "      <td>5.0</td>\n",
       "    </tr>\n",
       "    <tr>\n",
       "      <th>99</th>\n",
       "      <td>-0.021019</td>\n",
       "      <td>4.0</td>\n",
       "    </tr>\n",
       "  </tbody>\n",
       "</table>\n",
       "<p>100 rows × 2 columns</p>\n",
       "</div>"
      ],
      "text/plain": [
       "        col1  col2\n",
       "0   0.375693   5.8\n",
       "1  -0.200715   4.4\n",
       "2   0.443893   5.2\n",
       "3  -0.665084   4.6\n",
       "4  -0.739173   4.0\n",
       "..       ...   ...\n",
       "95 -0.452463   6.6\n",
       "96  0.366418   4.6\n",
       "97 -0.887573   8.2\n",
       "98 -0.347541   5.0\n",
       "99 -0.021019   4.0\n",
       "\n",
       "[100 rows x 2 columns]"
      ]
     },
     "execution_count": 4,
     "metadata": {},
     "output_type": "execute_result"
    }
   ],
   "source": [
    "pd.concat(df_list).groupby(level=0).mean()"
   ]
  },
  {
   "cell_type": "code",
   "execution_count": null,
   "id": "5a277df7",
   "metadata": {},
   "outputs": [],
   "source": []
  }
 ],
 "metadata": {
  "kernelspec": {
   "display_name": "Python 3.9.15 ('.venv': venv)",
   "language": "python",
   "name": "python3"
  },
  "language_info": {
   "codemirror_mode": {
    "name": "ipython",
    "version": 3
   },
   "file_extension": ".py",
   "mimetype": "text/x-python",
   "name": "python",
   "nbconvert_exporter": "python",
   "pygments_lexer": "ipython3",
   "version": "3.9.15"
  },
  "vscode": {
   "interpreter": {
    "hash": "4ee34b62edb80364ed23f6848b190186cfc7ce016bdec4c74edd21689226233e"
   }
  }
 },
 "nbformat": 4,
 "nbformat_minor": 5
}
