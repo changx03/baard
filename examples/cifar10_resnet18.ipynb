{
 "cells": [
  {
   "cell_type": "code",
   "execution_count": 1,
   "metadata": {},
   "outputs": [],
   "source": [
    "import datetime\n",
    "import time\n",
    "\n",
    "import torch\n",
    "import torchvision as tv\n",
    "import torchvision.transforms as transforms\n",
    "import torch.nn as nn\n",
    "import torch.nn.functional as F\n",
    "import torch.optim as optim\n",
    "from torch.utils.data import DataLoader, TensorDataset\n",
    "import matplotlib.pyplot as plt\n",
    "from torchinfo import summary"
   ]
  },
  {
   "cell_type": "code",
   "execution_count": 2,
   "metadata": {},
   "outputs": [
    {
     "name": "stdout",
     "output_type": "stream",
     "text": [
      "cuda\n"
     ]
    }
   ],
   "source": [
    "%matplotlib inline\n",
    "\n",
    "device = torch.device('cuda') if torch.cuda.is_available() else torch.device('cpu')\n",
    "print(device)"
   ]
  },
  {
   "cell_type": "code",
   "execution_count": 3,
   "metadata": {},
   "outputs": [],
   "source": [
    "transform_train = transforms.Compose([\n",
    "    transforms.RandomHorizontalFlip(),\n",
    "    transforms.RandomRotation((-7, 7)),\n",
    "    transforms.RandomCrop(32, padding=4),\n",
    "    transforms.ToTensor(),\n",
    "    transforms.Normalize((0.491, 0.482, 0.446), (0.247, 0.243, 0.261)),\n",
    "])\n",
    "\n",
    "transform_test = transforms.Compose([\n",
    "    transforms.ToTensor(),\n",
    "    transforms.Normalize((0.491, 0.482, 0.446), (0.247, 0.243, 0.261)),\n",
    "])"
   ]
  },
  {
   "cell_type": "code",
   "execution_count": 4,
   "metadata": {},
   "outputs": [],
   "source": [
    "DATA_PATH = 'data'\n",
    "BATCH_SIZE = 512"
   ]
  },
  {
   "cell_type": "code",
   "execution_count": 5,
   "metadata": {},
   "outputs": [
    {
     "name": "stdout",
     "output_type": "stream",
     "text": [
      "Files already downloaded and verified\n",
      "Files already downloaded and verified\n"
     ]
    }
   ],
   "source": [
    "dataset_train = tv.datasets.CIFAR10(DATA_PATH, train=True, download=True, transform=transform_train)\n",
    "dataset_test = tv.datasets.CIFAR10(DATA_PATH, train=False, download=True, transform=transform_test)\n",
    "\n",
    "loader_train = DataLoader(dataset_train, batch_size=BATCH_SIZE, shuffle=True)\n",
    "loader_test = DataLoader(dataset_test, batch_size=BATCH_SIZE, shuffle=True)"
   ]
  },
  {
   "cell_type": "code",
   "execution_count": 6,
   "metadata": {},
   "outputs": [],
   "source": [
    "class ResNet18(nn.Module):\n",
    "    def __init__(self, n_labels) -> None:\n",
    "        super(ResNet18, self).__init__()\n",
    "        self.n_labels = n_labels\n",
    "\n",
    "        # Load pre-trained resnet model\n",
    "        resnet = tv.models.resnet18(weights=tv.models.ResNet18_Weights.IMAGENET1K_V1, progress=False)\n",
    "\n",
    "        self.conv1 = resnet.conv1\n",
    "        self.bn1 = resnet.bn1\n",
    "        self.relu = resnet.relu\n",
    "        self.maxpool = resnet.maxpool\n",
    "        self.layer1 = resnet.layer1\n",
    "        self.layer2 = resnet.layer2\n",
    "        self.layer3 = resnet.layer3\n",
    "        self.layer4 = resnet.layer4\n",
    "        self.avgpool = resnet.avgpool\n",
    "        n_in_features = resnet.fc.in_features\n",
    "        self.fc = nn.Linear(n_in_features, self.n_labels)\n",
    "\n",
    "    def forward(self, x):\n",
    "        x = self.conv1(x)\n",
    "        x = self.bn1(x)\n",
    "        x = self.relu(x)\n",
    "        x = self.maxpool(x)\n",
    "\n",
    "        x = self.layer1(x)\n",
    "        x = self.layer2(x)\n",
    "        x = self.layer3(x)\n",
    "        x = self.layer4(x)\n",
    "\n",
    "        x = self.avgpool(x)\n",
    "        x = torch.flatten(x, 1)\n",
    "        x = self.fc(x)\n",
    "        return x"
   ]
  },
  {
   "cell_type": "code",
   "execution_count": 23,
   "metadata": {},
   "outputs": [
    {
     "name": "stdout",
     "output_type": "stream",
     "text": [
      "input_size: (512, 3, 32, 32)\n"
     ]
    },
    {
     "data": {
      "text/plain": [
       "==========================================================================================\n",
       "Layer (type:depth-idx)                   Output Shape              Param #\n",
       "==========================================================================================\n",
       "ResNet18                                 [512, 10]                 --\n",
       "├─Conv2d: 1-1                            [512, 64, 16, 16]         9,408\n",
       "├─BatchNorm2d: 1-2                       [512, 64, 16, 16]         128\n",
       "├─ReLU: 1-3                              [512, 64, 16, 16]         --\n",
       "├─MaxPool2d: 1-4                         [512, 64, 8, 8]           --\n",
       "├─Sequential: 1-5                        [512, 64, 8, 8]           --\n",
       "│    └─BasicBlock: 2-1                   [512, 64, 8, 8]           --\n",
       "│    │    └─Conv2d: 3-1                  [512, 64, 8, 8]           36,864\n",
       "│    │    └─BatchNorm2d: 3-2             [512, 64, 8, 8]           128\n",
       "│    │    └─ReLU: 3-3                    [512, 64, 8, 8]           --\n",
       "│    │    └─Conv2d: 3-4                  [512, 64, 8, 8]           36,864\n",
       "│    │    └─BatchNorm2d: 3-5             [512, 64, 8, 8]           128\n",
       "│    │    └─ReLU: 3-6                    [512, 64, 8, 8]           --\n",
       "│    └─BasicBlock: 2-2                   [512, 64, 8, 8]           --\n",
       "│    │    └─Conv2d: 3-7                  [512, 64, 8, 8]           36,864\n",
       "│    │    └─BatchNorm2d: 3-8             [512, 64, 8, 8]           128\n",
       "│    │    └─ReLU: 3-9                    [512, 64, 8, 8]           --\n",
       "│    │    └─Conv2d: 3-10                 [512, 64, 8, 8]           36,864\n",
       "│    │    └─BatchNorm2d: 3-11            [512, 64, 8, 8]           128\n",
       "│    │    └─ReLU: 3-12                   [512, 64, 8, 8]           --\n",
       "├─Sequential: 1-6                        [512, 128, 4, 4]          --\n",
       "│    └─BasicBlock: 2-3                   [512, 128, 4, 4]          --\n",
       "│    │    └─Conv2d: 3-13                 [512, 128, 4, 4]          73,728\n",
       "│    │    └─BatchNorm2d: 3-14            [512, 128, 4, 4]          256\n",
       "│    │    └─ReLU: 3-15                   [512, 128, 4, 4]          --\n",
       "│    │    └─Conv2d: 3-16                 [512, 128, 4, 4]          147,456\n",
       "│    │    └─BatchNorm2d: 3-17            [512, 128, 4, 4]          256\n",
       "│    │    └─Sequential: 3-18             [512, 128, 4, 4]          8,448\n",
       "│    │    └─ReLU: 3-19                   [512, 128, 4, 4]          --\n",
       "│    └─BasicBlock: 2-4                   [512, 128, 4, 4]          --\n",
       "│    │    └─Conv2d: 3-20                 [512, 128, 4, 4]          147,456\n",
       "│    │    └─BatchNorm2d: 3-21            [512, 128, 4, 4]          256\n",
       "│    │    └─ReLU: 3-22                   [512, 128, 4, 4]          --\n",
       "│    │    └─Conv2d: 3-23                 [512, 128, 4, 4]          147,456\n",
       "│    │    └─BatchNorm2d: 3-24            [512, 128, 4, 4]          256\n",
       "│    │    └─ReLU: 3-25                   [512, 128, 4, 4]          --\n",
       "├─Sequential: 1-7                        [512, 256, 2, 2]          --\n",
       "│    └─BasicBlock: 2-5                   [512, 256, 2, 2]          --\n",
       "│    │    └─Conv2d: 3-26                 [512, 256, 2, 2]          294,912\n",
       "│    │    └─BatchNorm2d: 3-27            [512, 256, 2, 2]          512\n",
       "│    │    └─ReLU: 3-28                   [512, 256, 2, 2]          --\n",
       "│    │    └─Conv2d: 3-29                 [512, 256, 2, 2]          589,824\n",
       "│    │    └─BatchNorm2d: 3-30            [512, 256, 2, 2]          512\n",
       "│    │    └─Sequential: 3-31             [512, 256, 2, 2]          33,280\n",
       "│    │    └─ReLU: 3-32                   [512, 256, 2, 2]          --\n",
       "│    └─BasicBlock: 2-6                   [512, 256, 2, 2]          --\n",
       "│    │    └─Conv2d: 3-33                 [512, 256, 2, 2]          589,824\n",
       "│    │    └─BatchNorm2d: 3-34            [512, 256, 2, 2]          512\n",
       "│    │    └─ReLU: 3-35                   [512, 256, 2, 2]          --\n",
       "│    │    └─Conv2d: 3-36                 [512, 256, 2, 2]          589,824\n",
       "│    │    └─BatchNorm2d: 3-37            [512, 256, 2, 2]          512\n",
       "│    │    └─ReLU: 3-38                   [512, 256, 2, 2]          --\n",
       "├─Sequential: 1-8                        [512, 512, 1, 1]          --\n",
       "│    └─BasicBlock: 2-7                   [512, 512, 1, 1]          --\n",
       "│    │    └─Conv2d: 3-39                 [512, 512, 1, 1]          1,179,648\n",
       "│    │    └─BatchNorm2d: 3-40            [512, 512, 1, 1]          1,024\n",
       "│    │    └─ReLU: 3-41                   [512, 512, 1, 1]          --\n",
       "│    │    └─Conv2d: 3-42                 [512, 512, 1, 1]          2,359,296\n",
       "│    │    └─BatchNorm2d: 3-43            [512, 512, 1, 1]          1,024\n",
       "│    │    └─Sequential: 3-44             [512, 512, 1, 1]          132,096\n",
       "│    │    └─ReLU: 3-45                   [512, 512, 1, 1]          --\n",
       "│    └─BasicBlock: 2-8                   [512, 512, 1, 1]          --\n",
       "│    │    └─Conv2d: 3-46                 [512, 512, 1, 1]          2,359,296\n",
       "│    │    └─BatchNorm2d: 3-47            [512, 512, 1, 1]          1,024\n",
       "│    │    └─ReLU: 3-48                   [512, 512, 1, 1]          --\n",
       "│    │    └─Conv2d: 3-49                 [512, 512, 1, 1]          2,359,296\n",
       "│    │    └─BatchNorm2d: 3-50            [512, 512, 1, 1]          1,024\n",
       "│    │    └─ReLU: 3-51                   [512, 512, 1, 1]          --\n",
       "├─AdaptiveAvgPool2d: 1-9                 [512, 512, 1, 1]          --\n",
       "├─Linear: 1-10                           [512, 10]                 5,130\n",
       "==========================================================================================\n",
       "Total params: 11,181,642\n",
       "Trainable params: 11,181,642\n",
       "Non-trainable params: 0\n",
       "Total mult-adds (G): 18.96\n",
       "==========================================================================================\n",
       "Input size (MB): 6.29\n",
       "Forward/backward pass size (MB): 415.28\n",
       "Params size (MB): 44.73\n",
       "Estimated Total Size (MB): 466.30\n",
       "=========================================================================================="
      ]
     },
     "execution_count": 23,
     "metadata": {},
     "output_type": "execute_result"
    }
   ],
   "source": [
    "i = iter(dataset_train)\n",
    "x, y = next(i)\n",
    "input_size = tuple([BATCH_SIZE] + list(x.size()))\n",
    "print('input_size:', input_size)\n",
    "\n",
    "summary(model=ResNet18(10), input_size=input_size)"
   ]
  },
  {
   "cell_type": "code",
   "execution_count": 26,
   "metadata": {},
   "outputs": [],
   "source": [
    "def create_model():\n",
    "    model = tv.models.resnet18(weights=None, num_classes=10)\n",
    "    model.conv1 = nn.Conv2d(3, 64, kernel_size=(3, 3), stride=(1, 1), padding=(1, 1), bias=False)\n",
    "    model.maxpool = nn.Identity()\n",
    "    return model"
   ]
  },
  {
   "cell_type": "code",
   "execution_count": 27,
   "metadata": {},
   "outputs": [
    {
     "data": {
      "text/plain": [
       "==========================================================================================\n",
       "Layer (type:depth-idx)                   Output Shape              Param #\n",
       "==========================================================================================\n",
       "ResNet                                   [512, 10]                 --\n",
       "├─Conv2d: 1-1                            [512, 64, 32, 32]         1,728\n",
       "├─BatchNorm2d: 1-2                       [512, 64, 32, 32]         128\n",
       "├─ReLU: 1-3                              [512, 64, 32, 32]         --\n",
       "├─Identity: 1-4                          [512, 64, 32, 32]         --\n",
       "├─Sequential: 1-5                        [512, 64, 32, 32]         --\n",
       "│    └─BasicBlock: 2-1                   [512, 64, 32, 32]         --\n",
       "│    │    └─Conv2d: 3-1                  [512, 64, 32, 32]         36,864\n",
       "│    │    └─BatchNorm2d: 3-2             [512, 64, 32, 32]         128\n",
       "│    │    └─ReLU: 3-3                    [512, 64, 32, 32]         --\n",
       "│    │    └─Conv2d: 3-4                  [512, 64, 32, 32]         36,864\n",
       "│    │    └─BatchNorm2d: 3-5             [512, 64, 32, 32]         128\n",
       "│    │    └─ReLU: 3-6                    [512, 64, 32, 32]         --\n",
       "│    └─BasicBlock: 2-2                   [512, 64, 32, 32]         --\n",
       "│    │    └─Conv2d: 3-7                  [512, 64, 32, 32]         36,864\n",
       "│    │    └─BatchNorm2d: 3-8             [512, 64, 32, 32]         128\n",
       "│    │    └─ReLU: 3-9                    [512, 64, 32, 32]         --\n",
       "│    │    └─Conv2d: 3-10                 [512, 64, 32, 32]         36,864\n",
       "│    │    └─BatchNorm2d: 3-11            [512, 64, 32, 32]         128\n",
       "│    │    └─ReLU: 3-12                   [512, 64, 32, 32]         --\n",
       "├─Sequential: 1-6                        [512, 128, 16, 16]        --\n",
       "│    └─BasicBlock: 2-3                   [512, 128, 16, 16]        --\n",
       "│    │    └─Conv2d: 3-13                 [512, 128, 16, 16]        73,728\n",
       "│    │    └─BatchNorm2d: 3-14            [512, 128, 16, 16]        256\n",
       "│    │    └─ReLU: 3-15                   [512, 128, 16, 16]        --\n",
       "│    │    └─Conv2d: 3-16                 [512, 128, 16, 16]        147,456\n",
       "│    │    └─BatchNorm2d: 3-17            [512, 128, 16, 16]        256\n",
       "│    │    └─Sequential: 3-18             [512, 128, 16, 16]        8,448\n",
       "│    │    └─ReLU: 3-19                   [512, 128, 16, 16]        --\n",
       "│    └─BasicBlock: 2-4                   [512, 128, 16, 16]        --\n",
       "│    │    └─Conv2d: 3-20                 [512, 128, 16, 16]        147,456\n",
       "│    │    └─BatchNorm2d: 3-21            [512, 128, 16, 16]        256\n",
       "│    │    └─ReLU: 3-22                   [512, 128, 16, 16]        --\n",
       "│    │    └─Conv2d: 3-23                 [512, 128, 16, 16]        147,456\n",
       "│    │    └─BatchNorm2d: 3-24            [512, 128, 16, 16]        256\n",
       "│    │    └─ReLU: 3-25                   [512, 128, 16, 16]        --\n",
       "├─Sequential: 1-7                        [512, 256, 8, 8]          --\n",
       "│    └─BasicBlock: 2-5                   [512, 256, 8, 8]          --\n",
       "│    │    └─Conv2d: 3-26                 [512, 256, 8, 8]          294,912\n",
       "│    │    └─BatchNorm2d: 3-27            [512, 256, 8, 8]          512\n",
       "│    │    └─ReLU: 3-28                   [512, 256, 8, 8]          --\n",
       "│    │    └─Conv2d: 3-29                 [512, 256, 8, 8]          589,824\n",
       "│    │    └─BatchNorm2d: 3-30            [512, 256, 8, 8]          512\n",
       "│    │    └─Sequential: 3-31             [512, 256, 8, 8]          33,280\n",
       "│    │    └─ReLU: 3-32                   [512, 256, 8, 8]          --\n",
       "│    └─BasicBlock: 2-6                   [512, 256, 8, 8]          --\n",
       "│    │    └─Conv2d: 3-33                 [512, 256, 8, 8]          589,824\n",
       "│    │    └─BatchNorm2d: 3-34            [512, 256, 8, 8]          512\n",
       "│    │    └─ReLU: 3-35                   [512, 256, 8, 8]          --\n",
       "│    │    └─Conv2d: 3-36                 [512, 256, 8, 8]          589,824\n",
       "│    │    └─BatchNorm2d: 3-37            [512, 256, 8, 8]          512\n",
       "│    │    └─ReLU: 3-38                   [512, 256, 8, 8]          --\n",
       "├─Sequential: 1-8                        [512, 512, 4, 4]          --\n",
       "│    └─BasicBlock: 2-7                   [512, 512, 4, 4]          --\n",
       "│    │    └─Conv2d: 3-39                 [512, 512, 4, 4]          1,179,648\n",
       "│    │    └─BatchNorm2d: 3-40            [512, 512, 4, 4]          1,024\n",
       "│    │    └─ReLU: 3-41                   [512, 512, 4, 4]          --\n",
       "│    │    └─Conv2d: 3-42                 [512, 512, 4, 4]          2,359,296\n",
       "│    │    └─BatchNorm2d: 3-43            [512, 512, 4, 4]          1,024\n",
       "│    │    └─Sequential: 3-44             [512, 512, 4, 4]          132,096\n",
       "│    │    └─ReLU: 3-45                   [512, 512, 4, 4]          --\n",
       "│    └─BasicBlock: 2-8                   [512, 512, 4, 4]          --\n",
       "│    │    └─Conv2d: 3-46                 [512, 512, 4, 4]          2,359,296\n",
       "│    │    └─BatchNorm2d: 3-47            [512, 512, 4, 4]          1,024\n",
       "│    │    └─ReLU: 3-48                   [512, 512, 4, 4]          --\n",
       "│    │    └─Conv2d: 3-49                 [512, 512, 4, 4]          2,359,296\n",
       "│    │    └─BatchNorm2d: 3-50            [512, 512, 4, 4]          1,024\n",
       "│    │    └─ReLU: 3-51                   [512, 512, 4, 4]          --\n",
       "├─AdaptiveAvgPool2d: 1-9                 [512, 512, 1, 1]          --\n",
       "├─Linear: 1-10                           [512, 10]                 5,130\n",
       "==========================================================================================\n",
       "Total params: 11,173,962\n",
       "Trainable params: 11,173,962\n",
       "Non-trainable params: 0\n",
       "Total mult-adds (G): 284.38\n",
       "==========================================================================================\n",
       "Input size (MB): 6.29\n",
       "Forward/backward pass size (MB): 5033.21\n",
       "Params size (MB): 44.70\n",
       "Estimated Total Size (MB): 5084.19\n",
       "=========================================================================================="
      ]
     },
     "execution_count": 27,
     "metadata": {},
     "output_type": "execute_result"
    }
   ],
   "source": [
    "model = create_model()\n",
    "summary(model, input_size=input_size)"
   ]
  },
  {
   "cell_type": "code",
   "execution_count": null,
   "metadata": {},
   "outputs": [],
   "source": [
    "def train(model, dataloader, loss_fn, optimizer, device):\n",
    "    n = len(dataloader.dataset)\n",
    "    n_batches = len(dataloader)\n",
    "    running_loss = 0.\n",
    "    corrects = 0.\n",
    "\n",
    "    model.train()\n",
    "    for x, y in dataloader:\n",
    "        x = x.to(device)\n",
    "        y = y.to(device)\n",
    "\n",
    "        optimizer.zero_grad()\n",
    "        outputs = model(x)\n",
    "        loss = loss_fn(outputs, y)\n",
    "        loss.backward()\n",
    "        optimizer.step()\n",
    "\n",
    "        preds = outputs.max(1, keepdim=True)[1]\n",
    "        corrects += preds.eq(y.view_as(preds)).sum().item()\n",
    "\n",
    "        running_loss += loss.item()\n",
    "\n",
    "    avg_loss = running_loss / n_batches\n",
    "    acc = corrects / n\n",
    "    return avg_loss, acc"
   ]
  },
  {
   "cell_type": "code",
   "execution_count": null,
   "metadata": {},
   "outputs": [],
   "source": [
    "def evaluate(model, dataloader, loss_fn, device):\n",
    "    n = len(dataloader.dataset)\n",
    "    n_batches = len(dataloader)\n",
    "    running_loss = 0.\n",
    "    corrects = 0.\n",
    "\n",
    "    model.eval()\n",
    "    with torch.no_grad():\n",
    "        for x, y in dataloader:\n",
    "            x= x.to(device)\n",
    "            y = y.to(device)\n",
    "            outputs = model(x)\n",
    "            loss = loss_fn(outputs, y)\n",
    "            \n",
    "            preds = outputs.max(1, keepdim=True)[1]\n",
    "            corrects += preds.eq(y.view_as(preds)).sum().item()\n",
    "\n",
    "            running_loss += loss.item()\n",
    "    \n",
    "    avg_loss = running_loss / n_batches\n",
    "    acc = corrects / n\n",
    "    return avg_loss, acc"
   ]
  },
  {
   "cell_type": "code",
   "execution_count": null,
   "metadata": {},
   "outputs": [],
   "source": [
    "class EarlyStopping:\n",
    "    \"\"\"\n",
    "    Early stopping to stop the training when the loss does not improve after\n",
    "    certain epochs.\n",
    "    \"\"\"\n",
    "\n",
    "    def __init__(self, patience=5, min_delta=0):\n",
    "        \"\"\"\n",
    "        :param patience: how many epochs to wait before stopping when loss is\n",
    "               not improving\n",
    "        :param min_delta: minimum difference between new loss and old loss for\n",
    "               new loss to be considered as an improvement\n",
    "        \"\"\"\n",
    "        self.patience = patience\n",
    "        self.min_delta = min_delta\n",
    "        self.counter = 0\n",
    "        self.best_loss = None\n",
    "        self.early_stop = False\n",
    "\n",
    "    def __call__(self, val_loss):\n",
    "        if self.best_loss == None:\n",
    "            self.best_loss = val_loss\n",
    "        elif self.best_loss - val_loss > self.min_delta:\n",
    "            self.best_loss = val_loss\n",
    "            # reset counter if validation loss improves\n",
    "            self.counter = 0\n",
    "        elif self.best_loss - val_loss < self.min_delta:\n",
    "            self.counter += 1\n",
    "            # print(\n",
    "            #     f\"INFO: Early stopping counter {self.counter} of {self.patience}\")\n",
    "            if self.counter >= self.patience:\n",
    "                # print('INFO: Early stopping')\n",
    "                self.early_stop = True"
   ]
  },
  {
   "cell_type": "code",
   "execution_count": null,
   "metadata": {},
   "outputs": [],
   "source": [
    "LR = 0.05\n",
    "EPOCHS = 50"
   ]
  },
  {
   "cell_type": "code",
   "execution_count": null,
   "metadata": {},
   "outputs": [],
   "source": [
    "model = ResNet18(10).to(device)\n",
    "loss = nn.CrossEntropyLoss()\n",
    "optimizer = optim.SGD(model.parameters(), lr=LR, momentum=0.9, weight_decay=5e-4)\n",
    "steps_per_epoch = len(loader_train)\n",
    "scheduler = optim.lr_scheduler.OneCycleLR(optimizer, 0.1, epochs=EPOCHS, steps_per_epoch=steps_per_epoch)"
   ]
  },
  {
   "cell_type": "code",
   "execution_count": null,
   "metadata": {},
   "outputs": [],
   "source": [
    "train_losses = []\n",
    "train_accs = []\n",
    "test_losses = []\n",
    "test_accs = []\n"
   ]
  },
  {
   "cell_type": "code",
   "execution_count": null,
   "metadata": {},
   "outputs": [],
   "source": [
    "def train_model(epochs=EPOCHS):\n",
    "    early_stopping = EarlyStopping()\n",
    "\n",
    "    time_start = time.perf_counter()\n",
    "    for e in range(epochs):\n",
    "        epoch_start = time.perf_counter()\n",
    "        tr_loss, tr_acc = train(model, loader_train, loss, optimizer, device)\n",
    "        va_loss, va_acc = evaluate(model, loader_test, loss, device)\n",
    "        scheduler.step()\n",
    "        epoch_end = time.perf_counter() - epoch_start\n",
    "\n",
    "        print('[{:3d}/{:d} T:{:s}] Train Loss: {:.4f} Acc: {:.4f}%, Test Loss: {:.4f} Acc: {:.4f}%'.format(\n",
    "            e+1, epochs, str(datetime.timedelta(seconds=epoch_end)), tr_loss, tr_acc*100, va_loss, va_acc*100))\n",
    "\n",
    "        early_stopping(tr_loss)\n",
    "        if early_stopping.early_stop:\n",
    "                break\n",
    "        \n",
    "        train_losses.append(tr_loss)\n",
    "        train_accs.append(tr_acc)\n",
    "        test_losses.append(va_loss)\n",
    "        test_accs.append(va_acc)\n",
    "    time_elapsed = time.perf_counter()\n",
    "    print('Total training time: {}'.format(str(datetime.timedelta(seconds=time_elapsed))))\n"
   ]
  },
  {
   "cell_type": "code",
   "execution_count": null,
   "metadata": {},
   "outputs": [],
   "source": [
    "train_model()"
   ]
  },
  {
   "cell_type": "code",
   "execution_count": null,
   "metadata": {},
   "outputs": [],
   "source": []
  }
 ],
 "metadata": {
  "kernelspec": {
   "display_name": "Python 3.9.15 ('venv': venv)",
   "language": "python",
   "name": "python3"
  },
  "language_info": {
   "codemirror_mode": {
    "name": "ipython",
    "version": 3
   },
   "file_extension": ".py",
   "mimetype": "text/x-python",
   "name": "python",
   "nbconvert_exporter": "python",
   "pygments_lexer": "ipython3",
   "version": "3.9.15"
  },
  "orig_nbformat": 4,
  "vscode": {
   "interpreter": {
    "hash": "ca1e3ec0254efb300f2de71f1d983378da29e4ede80290b822db9c2199a6e419"
   }
  }
 },
 "nbformat": 4,
 "nbformat_minor": 2
}
