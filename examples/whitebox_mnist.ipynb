{
 "cells": [
  {
   "cell_type": "code",
   "execution_count": 1,
   "metadata": {},
   "outputs": [],
   "source": [
    "import os\n",
    "from pathlib import Path\n",
    "import sys\n",
    "import logging\n",
    "\n",
    "logging.basicConfig(level=logging.INFO)\n"
   ]
  },
  {
   "cell_type": "code",
   "execution_count": 2,
   "metadata": {},
   "outputs": [],
   "source": [
    "sys.path.append('..')\n"
   ]
  },
  {
   "cell_type": "code",
   "execution_count": 3,
   "metadata": {},
   "outputs": [],
   "source": [
    "%load_ext autoreload\n",
    "%autoreload 2\n"
   ]
  },
  {
   "cell_type": "code",
   "execution_count": 4,
   "metadata": {},
   "outputs": [
    {
     "name": "stderr",
     "output_type": "stream",
     "text": [
      "INFO:torch.distributed.nn.jit.instantiator:Created a temporary directory at /tmp/tmpxshu6dq3\n",
      "INFO:torch.distributed.nn.jit.instantiator:Writing /tmp/tmpxshu6dq3/_remote_module_non_scriptable.py\n"
     ]
    }
   ],
   "source": [
    "import matplotlib.pyplot as plt\n",
    "import numpy as np\n",
    "import pytorch_lightning as pl\n",
    "import torch\n",
    "from torch.utils.data import DataLoader, TensorDataset\n"
   ]
  },
  {
   "cell_type": "code",
   "execution_count": 5,
   "metadata": {},
   "outputs": [],
   "source": [
    "import baard.utils.torch_utils as utils\n",
    "from baard.classifiers import MNIST_CNN\n"
   ]
  },
  {
   "cell_type": "code",
   "execution_count": 6,
   "metadata": {},
   "outputs": [
    {
     "name": "stdout",
     "output_type": "stream",
     "text": [
      "ROOT: /home/lukec/workspace/baard_v4\n",
      "CHECKPOINT: /home/lukec/workspace/baard_v4/pretrained_clf\n"
     ]
    }
   ],
   "source": [
    "PATH_ROOT = Path(os.getcwd()).absolute().parent\n",
    "PATH_CHECKPOINT = os.path.join(PATH_ROOT, 'pretrained_clf')\n",
    "print('ROOT:', PATH_ROOT)\n",
    "print('CHECKPOINT:', PATH_CHECKPOINT)\n"
   ]
  },
  {
   "cell_type": "code",
   "execution_count": 7,
   "metadata": {},
   "outputs": [],
   "source": [
    "path_checkpoint = os.path.join(PATH_CHECKPOINT, 'mnist_cnn.ckpt')\n",
    "model = MNIST_CNN.load_from_checkpoint(path_checkpoint)\n"
   ]
  },
  {
   "cell_type": "code",
   "execution_count": 8,
   "metadata": {},
   "outputs": [
    {
     "name": "stdout",
     "output_type": "stream",
     "text": [
      "torch.Size([1000, 1, 28, 28]) torch.Size([100, 1, 28, 28])\n"
     ]
    }
   ],
   "source": [
    "path_val = os.path.join(PATH_ROOT, 'results', 'exp1234', 'MNIST', 'ValClean-1000.pt')\n",
    "path_clean = os.path.join(PATH_ROOT, 'results', 'exp1234', 'MNIST', 'AdvClean-100.pt')\n",
    "\n",
    "X_val, y_val = utils.dataset2tensor(torch.load(path_val))\n",
    "X_clean, y_clean = utils.dataset2tensor(torch.load(path_clean))\n",
    "\n",
    "print(X_val.shape, X_clean.shape)\n"
   ]
  },
  {
   "cell_type": "code",
   "execution_count": 9,
   "metadata": {},
   "outputs": [
    {
     "name": "stdout",
     "output_type": "stream",
     "text": [
      "True: tensor([9, 7, 5, 5, 5, 7, 5, 0, 5, 8])\n",
      "Pred: tensor([9, 7, 5, 5, 5, 7, 5, 0, 5, 8])\n"
     ]
    }
   ],
   "source": [
    "print('True:', y_clean[:10])\n",
    "_pred = torch.argmax(model(X_clean[:10]), 1)\n",
    "print('Pred:', _pred)\n"
   ]
  },
  {
   "cell_type": "code",
   "execution_count": 10,
   "metadata": {},
   "outputs": [],
   "source": [
    "from baard.attacks.adaptive_whitebox import targeted_whitebox_pgd\n"
   ]
  },
  {
   "cell_type": "code",
   "execution_count": 11,
   "metadata": {},
   "outputs": [
    {
     "name": "stdout",
     "output_type": "stream",
     "text": [
      "Mean: 0.374 Dist: 0.233, Idx: 282\n"
     ]
    }
   ],
   "source": [
    "# Find the nearest example with a different label in the validation set.\n",
    "indices_target = torch.where(y_val != y_clean[0])[0]\n",
    "X_target = X_val[indices_target]\n",
    "y_target = y_val[indices_target]\n",
    "\n",
    "cosine_sim_fn = torch.nn.CosineSimilarity(dim=1)\n",
    "cos_sim_target = cosine_sim_fn(\n",
    "    X_target.reshape(len(X_target), -1),\n",
    "    X_clean[0].flatten(),\n",
    ")\n",
    "angular_dist_target = torch.arccos(cos_sim_target) / torch.pi\n",
    "idx_nearest = torch.argmin(angular_dist_target)\n",
    "print('Mean: {:.3f} Dist: {:.3f}, Idx: {}'.format(\n",
    "    angular_dist_target.mean(),\n",
    "    angular_dist_target[idx_nearest],\n",
    "    idx_nearest\n",
    "))\n"
   ]
  },
  {
   "cell_type": "code",
   "execution_count": 12,
   "metadata": {},
   "outputs": [
    {
     "name": "stdout",
     "output_type": "stream",
     "text": [
      "tensor(7)\n"
     ]
    }
   ],
   "source": [
    "x_near_target = X_target[idx_nearest]\n",
    "y_near_target = y_target[idx_nearest]\n",
    "print(y_near_target)\n"
   ]
  },
  {
   "cell_type": "code",
   "execution_count": 13,
   "metadata": {},
   "outputs": [
    {
     "data": {
      "image/png": "[encoded data removed]",
      "text/plain": [
       "<Figure size 300x300 with 1 Axes>"
      ]
     },
     "metadata": {},
     "output_type": "display_data"
    },
    {
     "data": {
      "image/png": "[encoded data removed]",
      "text/plain": [
       "<Figure size 300x300 with 1 Axes>"
      ]
     },
     "metadata": {},
     "output_type": "display_data"
    },
    {
     "data": {
      "image/png": "[encoded data removed]",
      "text/plain": [
       "<Figure size 300x300 with 1 Axes>"
      ]
     },
     "metadata": {},
     "output_type": "display_data"
    },
    {
     "name": "stdout",
     "output_type": "stream",
     "text": [
      "Pred: tensor([7])\n"
     ]
    }
   ],
   "source": [
    "X_adv = targeted_whitebox_pgd(\n",
    "    model,\n",
    "    X_clean[0].unsqueeze(0),\n",
    "    X_target[idx_nearest].unsqueeze(0),\n",
    "    eps=0.22,\n",
    "    eps_iter=0.03,\n",
    "    nb_iter=100,\n",
    "    early_stop=False,\n",
    ")\n",
    "utils.show_img(X_clean[0])\n",
    "utils.show_img(X_target[idx_nearest])\n",
    "utils.show_img(X_adv[0])\n",
    "print('Pred:', torch.argmax(model(X_adv), 1))\n"
   ]
  },
  {
   "cell_type": "code",
   "execution_count": 14,
   "metadata": {},
   "outputs": [
    {
     "data": {
      "image/png": "[encoded data removed]",
      "text/plain": [
       "<Figure size 300x300 with 1 Axes>"
      ]
     },
     "metadata": {},
     "output_type": "display_data"
    },
    {
     "data": {
      "image/png": "[encoded data removed]",
      "text/plain": [
       "<Figure size 300x300 with 1 Axes>"
      ]
     },
     "metadata": {},
     "output_type": "display_data"
    },
    {
     "data": {
      "image/png": "[encoded data removed]",
      "text/plain": [
       "<Figure size 300x300 with 1 Axes>"
      ]
     },
     "metadata": {},
     "output_type": "display_data"
    },
    {
     "name": "stdout",
     "output_type": "stream",
     "text": [
      "Pred: tensor([7])\n"
     ]
    }
   ],
   "source": [
    "X_adv = targeted_whitebox_pgd(\n",
    "    model,\n",
    "    X_clean[0].unsqueeze(0),\n",
    "    X_target[idx_nearest].unsqueeze(0),\n",
    "    eps=4,\n",
    "    eps_iter=0.1,\n",
    "    nb_iter=100,\n",
    "    norm=2,\n",
    "    early_stop=False,\n",
    ")\n",
    "utils.show_img(X_clean[0])\n",
    "utils.show_img(X_target[idx_nearest])\n",
    "utils.show_img(X_adv[0])\n",
    "print('Pred:', torch.argmax(model(X_adv), 1))\n"
   ]
  },
  {
   "cell_type": "code",
   "execution_count": 15,
   "metadata": {},
   "outputs": [
    {
     "data": {
      "image/png": "[encoded data removed]",
      "text/plain": [
       "<Figure size 300x300 with 1 Axes>"
      ]
     },
     "metadata": {},
     "output_type": "display_data"
    },
    {
     "data": {
      "image/png": "[encoded data removed]",
      "text/plain": [
       "<Figure size 300x300 with 1 Axes>"
      ]
     },
     "metadata": {},
     "output_type": "display_data"
    },
    {
     "data": {
      "image/png": "[encoded data removed]",
      "text/plain": [
       "<Figure size 300x300 with 1 Axes>"
      ]
     },
     "metadata": {},
     "output_type": "display_data"
    },
    {
     "name": "stdout",
     "output_type": "stream",
     "text": [
      "Pred: tensor([7])\n"
     ]
    }
   ],
   "source": [
    "# With larger c value. More weight toward the targeted example.\n",
    "X_adv = targeted_whitebox_pgd(\n",
    "    model,\n",
    "    X_clean[0].unsqueeze(0),\n",
    "    X_target[idx_nearest].unsqueeze(0),\n",
    "    eps=10,\n",
    "    eps_iter=0.1,\n",
    "    nb_iter=100,\n",
    "    norm=2,\n",
    "    early_stop=False,\n",
    "    rand_init=False,\n",
    "    c=10,\n",
    ")\n",
    "utils.show_img(X_clean[0])\n",
    "utils.show_img(X_target[idx_nearest])\n",
    "utils.show_img(X_adv[0])\n",
    "print('Pred:', torch.argmax(model(X_adv), 1))\n"
   ]
  },
  {
   "cell_type": "code",
   "execution_count": null,
   "metadata": {},
   "outputs": [],
   "source": []
  }
 ],
 "metadata": {
  "kernelspec": {
   "display_name": "Python 3.9.15 ('.venv': venv)",
   "language": "python",
   "name": "python3"
  },
  "language_info": {
   "codemirror_mode": {
    "name": "ipython",
    "version": 3
   },
   "file_extension": ".py",
   "mimetype": "text/x-python",
   "name": "python",
   "nbconvert_exporter": "python",
   "pygments_lexer": "ipython3",
   "version": "3.9.15"
  },
  "orig_nbformat": 4,
  "vscode": {
   "interpreter": {
    "hash": "4ee34b62edb80364ed23f6848b190186cfc7ce016bdec4c74edd21689226233e"
   }
  }
 },
 "nbformat": 4,
 "nbformat_minor": 2
}
