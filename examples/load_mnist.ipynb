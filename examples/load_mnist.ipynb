{
 "cells": [
  {
   "cell_type": "code",
   "execution_count": 1,
   "metadata": {},
   "outputs": [],
   "source": [
    "import sys\n",
    "sys.path.append('..')\n",
    "\n",
    "import os\n",
    "from pathlib import Path"
   ]
  },
  {
   "cell_type": "code",
   "execution_count": 2,
   "metadata": {},
   "outputs": [],
   "source": [
    "import torch\n",
    "import pytorch_lightning as pl\n",
    "\n",
    "from baard.classifiers.mnist_cnn import MNIST_CNN"
   ]
  },
  {
   "cell_type": "code",
   "execution_count": 3,
   "metadata": {},
   "outputs": [
    {
     "name": "stdout",
     "output_type": "stream",
     "text": [
      "PATH_ROOT: /home/lukec/workspace/baard_v4\n",
      "PATH_CHECKPOINT: /home/lukec/workspace/baard_v4/pretrained_clf/mnist_cnn.ckpt\n"
     ]
    }
   ],
   "source": [
    "PATH_ROOT = Path(os.getcwd()).absolute().parent\n",
    "print('PATH_ROOT:', PATH_ROOT)\n",
    "PATH_CHECKPOINT = os.path.join(PATH_ROOT, 'pretrained_clf', 'mnist_cnn.ckpt')\n",
    "if os.path.isfile(PATH_CHECKPOINT):\n",
    "    print('PATH_CHECKPOINT:', PATH_CHECKPOINT)\n",
    "else:\n",
    "    raise FileExistsError('Cannot find PyTorch lightning checkpoint. Check file name!')\n"
   ]
  },
  {
   "cell_type": "code",
   "execution_count": 4,
   "metadata": {},
   "outputs": [],
   "source": [
    "model = MNIST_CNN.load_from_checkpoint(PATH_CHECKPOINT)"
   ]
  },
  {
   "cell_type": "code",
   "execution_count": 5,
   "metadata": {},
   "outputs": [
    {
     "data": {
      "text/plain": [
       "==========================================================================================\n",
       "Layer (type:depth-idx)                   Output Shape              Param #\n",
       "==========================================================================================\n",
       "MNIST_CNN                                [256, 10]                 --\n",
       "├─Conv2d: 1-1                            [256, 32, 26, 26]         320\n",
       "├─ReLU: 1-2                              [256, 32, 26, 26]         --\n",
       "├─Conv2d: 1-3                            [256, 64, 24, 24]         18,496\n",
       "├─ReLU: 1-4                              [256, 64, 24, 24]         --\n",
       "├─MaxPool2d: 1-5                         [256, 64, 12, 12]         --\n",
       "├─Flatten: 1-6                           [256, 9216]               --\n",
       "├─Linear: 1-7                            [256, 200]                1,843,400\n",
       "├─ReLU: 1-8                              [256, 200]                --\n",
       "├─Linear: 1-9                            [256, 10]                 2,010\n",
       "==========================================================================================\n",
       "Total params: 1,864,226\n",
       "Trainable params: 1,864,226\n",
       "Non-trainable params: 0\n",
       "Total mult-adds (G): 3.26\n",
       "==========================================================================================\n",
       "Input size (MB): 0.80\n",
       "Forward/backward pass size (MB): 120.23\n",
       "Params size (MB): 7.46\n",
       "Estimated Total Size (MB): 128.49\n",
       "=========================================================================================="
      ]
     },
     "execution_count": 5,
     "metadata": {},
     "output_type": "execute_result"
    }
   ],
   "source": [
    "from torchinfo import summary\n",
    "\n",
    "batch_size = model.train_dataloader().batch_size\n",
    "summary(model, input_size=(batch_size, 1, 28, 28))"
   ]
  },
  {
   "cell_type": "code",
   "execution_count": 6,
   "metadata": {},
   "outputs": [
    {
     "name": "stderr",
     "output_type": "stream",
     "text": [
      "GPU available: True (cuda), used: True\n",
      "TPU available: False, using: 0 TPU cores\n",
      "IPU available: False, using: 0 IPUs\n",
      "HPU available: False, using: 0 HPUs\n",
      "LOCAL_RANK: 0 - CUDA_VISIBLE_DEVICES: [0]\n"
     ]
    },
    {
     "data": {
      "application/vnd.jupyter.widget-view+json": {
       "model_id": "8fd996ba88d94f29abe358ce3b9b0850",
       "version_major": 2,
       "version_minor": 0
      },
      "text/plain": [
       "Testing: 0it [00:00, ?it/s]"
      ]
     },
     "metadata": {},
     "output_type": "display_data"
    },
    {
     "name": "stdout",
     "output_type": "stream",
     "text": [
      "────────────────────────────────────────────────────────────────────────────────────────────────────────────────────────\n",
      "       Test metric             DataLoader 0\n",
      "────────────────────────────────────────────────────────────────────────────────────────────────────────────────────────\n",
      "        test_acc             0.991599977016449\n",
      "        test_loss          0.025816794484853745\n",
      "────────────────────────────────────────────────────────────────────────────────────────────────────────────────────────\n"
     ]
    },
    {
     "data": {
      "text/plain": [
       "[{'test_loss': 0.025816794484853745, 'test_acc': 0.991599977016449}]"
      ]
     },
     "execution_count": 6,
     "metadata": {},
     "output_type": "execute_result"
    }
   ],
   "source": [
    "trainer = pl.Trainer(accelerator='auto', logger=False)\n",
    "trainer.test(model, model.val_dataloader())"
   ]
  },
  {
   "cell_type": "code",
   "execution_count": null,
   "metadata": {},
   "outputs": [],
   "source": []
  }
 ],
 "metadata": {
  "kernelspec": {
   "display_name": "Python 3.9.15 ('venv': venv)",
   "language": "python",
   "name": "python3"
  },
  "language_info": {
   "codemirror_mode": {
    "name": "ipython",
    "version": 3
   },
   "file_extension": ".py",
   "mimetype": "text/x-python",
   "name": "python",
   "nbconvert_exporter": "python",
   "pygments_lexer": "ipython3",
   "version": "3.9.15"
  },
  "orig_nbformat": 4,
  "vscode": {
   "interpreter": {
    "hash": "ca1e3ec0254efb300f2de71f1d983378da29e4ede80290b822db9c2199a6e419"
   }
  }
 },
 "nbformat": 4,
 "nbformat_minor": 2
}
